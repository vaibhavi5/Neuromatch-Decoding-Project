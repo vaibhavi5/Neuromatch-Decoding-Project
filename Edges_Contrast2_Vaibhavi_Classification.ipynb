{
  "nbformat": 4,
  "nbformat_minor": 0,
  "metadata": {
    "kernelspec": {
      "display_name": "nma (py37)",
      "language": "python",
      "name": "nma"
    },
    "language_info": {
      "codemirror_mode": {
        "name": "ipython",
        "version": 3
      },
      "file_extension": ".py",
      "mimetype": "text/x-python",
      "name": "python",
      "nbconvert_exporter": "python",
      "pygments_lexer": "ipython3",
      "version": "3.7.6"
    },
    "colab": {
      "name": "Edges Contrast2 Vaibhavi Classification.ipynb",
      "provenance": [],
      "collapsed_sections": [],
      "toc_visible": true
    }
  },
  "cells": [
    {
      "cell_type": "markdown",
      "metadata": {
        "id": "zIlxbz_J4Hgh",
        "colab_type": "text"
      },
      "source": [
        "## Importing the general libraries"
      ]
    },
    {
      "cell_type": "code",
      "metadata": {
        "id": "sgZXo_bJ7NJT",
        "colab_type": "code",
        "colab": {}
      },
      "source": [
        "import os\n",
        "import numpy as np\n",
        "import numpy.ma as ma\n",
        "import matplotlib.pyplot as plt"
      ],
      "execution_count": 1,
      "outputs": []
    },
    {
      "cell_type": "markdown",
      "metadata": {
        "id": "0lvjOfjB4atI",
        "colab_type": "text"
      },
      "source": [
        "## Importing the dataset"
      ]
    },
    {
      "cell_type": "code",
      "metadata": {
        "id": "prggAdvg7NJX",
        "colab_type": "code",
        "colab": {}
      },
      "source": [
        "fname = \"kay_labels.npy\"\n",
        "if not os.path.exists(fname):\n",
        "  !wget -qO $fname https://osf.io/r638s/download\n",
        "fname = \"kay_labels_val.npy\"\n",
        "if not os.path.exists(fname):\n",
        "  !wget -qO $fname https://osf.io/yqb3e/download\n",
        "fname = \"kay_images.npz\"\n",
        "if not os.path.exists(fname):\n",
        "  !wget -qO $fname https://osf.io/ymnjv/download"
      ],
      "execution_count": 2,
      "outputs": []
    },
    {
      "cell_type": "code",
      "metadata": {
        "id": "2xO75A2C7NJZ",
        "colab_type": "code",
        "colab": {}
      },
      "source": [
        "with np.load(fname) as dobj:\n",
        "    dat = dict(**dobj)\n",
        "labels = np.load('kay_labels.npy')\n",
        "val_labels = np.load('kay_labels_val.npy')"
      ],
      "execution_count": 3,
      "outputs": []
    },
    {
      "cell_type": "markdown",
      "metadata": {
        "id": "o2UR46OW8RHt",
        "colab_type": "text"
      },
      "source": [
        "\n",
        "`labels` is a 4 by stim array of class names:  \n",
        "- row 3 has the labels predicted by a deep neural network (DNN) trained on Imagenet\n",
        "- rows 0-2 correspond to different levels of the wordnet hierarchy for the DNN predictions"
      ]
    },
    {
      "cell_type": "code",
      "metadata": {
        "id": "RTYcrxVJ7mqV",
        "colab_type": "code",
        "colab": {
          "base_uri": "https://localhost:8080/",
          "height": 85
        },
        "outputId": "79ad9301-0039-4cf2-9ec2-a0a7a6da3826"
      },
      "source": [
        "print(labels[:,:4])"
      ],
      "execution_count": 4,
      "outputs": [
        {
          "output_type": "stream",
          "text": [
            "[['artifact' 'entity' 'animal' 'animal']\n",
            " ['instrumentality' 'round shape' 'vertebrate' 'vertebrate']\n",
            " ['equipment' 'sphere' 'mammal' 'amphibian']\n",
            " ['croquet ball' 'bubble' 'komondor' 'tailed frog']]\n"
          ],
          "name": "stdout"
        }
      ]
    },
    {
      "cell_type": "code",
      "metadata": {
        "id": "4LR9vZzEt53n",
        "colab_type": "code",
        "colab": {
          "base_uri": "https://localhost:8080/",
          "height": 51
        },
        "outputId": "817c6c8e-246b-4317-ced0-207d0bdc89c2"
      },
      "source": [
        "np.unique(labels[0])"
      ],
      "execution_count": 5,
      "outputs": [
        {
          "output_type": "execute_result",
          "data": {
            "text/plain": [
              "array(['animal', 'artifact', 'entity', 'fruit', 'fungus',\n",
              "       'geological formation', 'person', 'plant'], dtype='<U71')"
            ]
          },
          "metadata": {
            "tags": []
          },
          "execution_count": 5
        }
      ]
    },
    {
      "cell_type": "code",
      "metadata": {
        "id": "bVwJRXq-7NJb",
        "colab_type": "code",
        "colab": {
          "base_uri": "https://localhost:8080/",
          "height": 34
        },
        "outputId": "8eca5bec-42bf-4b7b-e3bc-e02f80b9af9c"
      },
      "source": [
        "print(dat.keys())"
      ],
      "execution_count": 6,
      "outputs": [
        {
          "output_type": "stream",
          "text": [
            "dict_keys(['stimuli', 'stimuli_test', 'responses', 'responses_test', 'roi', 'roi_names'])\n"
          ],
          "name": "stdout"
        }
      ]
    },
    {
      "cell_type": "markdown",
      "metadata": {
        "id": "o_P2QFoM7NJe",
        "colab_type": "text"
      },
      "source": [
        "`dat` has the following fields:  \n",
        "- `stimuli`: stim x i x j array of grayscale stimulus images\n",
        "- `stimuli_test`: stim x i x j array of grayscale stimulus images in the test set  \n",
        "- `responses`: stim x voxel array of z-scored BOLD response amplitude\n",
        "- `responses_test`:  stim x voxel array of z-scored BOLD response amplitude in the test set  \n",
        "- `roi`: array of voxel labels\n",
        "- `roi_names`: array of names corresponding to voxel labels"
      ]
    },
    {
      "cell_type": "markdown",
      "metadata": {
        "id": "Vj7WzBnW-aYK",
        "colab_type": "text"
      },
      "source": [
        "## Preprocessing the I/P Dataset"
      ]
    },
    {
      "cell_type": "code",
      "metadata": {
        "id": "pmR-X0aM-avQ",
        "colab_type": "code",
        "colab": {
          "base_uri": "https://localhost:8080/",
          "height": 34
        },
        "outputId": "2564c1eb-ea4e-4c42-e424-a3f9bef81019"
      },
      "source": [
        "labels = np.hstack((labels, val_labels))\n",
        "labels.shape"
      ],
      "execution_count": 7,
      "outputs": [
        {
          "output_type": "execute_result",
          "data": {
            "text/plain": [
              "(4, 1870)"
            ]
          },
          "metadata": {
            "tags": []
          },
          "execution_count": 7
        }
      ]
    },
    {
      "cell_type": "code",
      "metadata": {
        "id": "XmEVtajN_N_a",
        "colab_type": "code",
        "colab": {
          "base_uri": "https://localhost:8080/",
          "height": 153
        },
        "outputId": "fc19d5dd-fdef-446b-be00-4b34f779b622"
      },
      "source": [
        "for cat in np.unique(labels[0]):\n",
        "  print(cat, (labels.T == cat).sum())"
      ],
      "execution_count": 8,
      "outputs": [
        {
          "output_type": "stream",
          "text": [
            "animal 643\n",
            "artifact 862\n",
            "entity 76\n",
            "fruit 78\n",
            "fungus 6\n",
            "geological formation 202\n",
            "person 2\n",
            "plant 1\n"
          ],
          "name": "stdout"
        }
      ]
    },
    {
      "cell_type": "code",
      "metadata": {
        "id": "nyuO-g2w_UB6",
        "colab_type": "code",
        "colab": {
          "base_uri": "https://localhost:8080/",
          "height": 34
        },
        "outputId": "6613e09d-b81f-48fe-d171-12aa478577f9"
      },
      "source": [
        "living_mask = np.logical_or(labels.T[:, 0]== 'animal', np.logical_or(labels.T[:, 0] == 'fruit', np.logical_or(labels.T[:, 0] == 'fungus', np.logical_or(labels.T[:, 0]=='person', np.logical_or(labels.T[:, 0]=='plant', np.logical_and(labels.T[:, 0]=='entity', labels.T[:, 2]=='food'))))))#, labels.T[: 0] == 'fungus')#, labels.T[:, 0] == 'person', labels.T[:, 0] == 'plant', labels.T[:, 2] == 'food') \n",
        "non_living_mask = labels.T[:, 0]=='artifact'\n",
        "to_remove = 60\n",
        "living_mask.sum(), non_living_mask.sum()\n",
        "for i in range(non_living_mask.size):\n",
        "  if non_living_mask[i] == 1:\n",
        "    non_living_mask[i] = 0\n",
        "    to_remove = to_remove - 1\n",
        "    if to_remove == 0:\n",
        "      break\n",
        "living_mask.sum(), non_living_mask.sum()\n",
        "# X =X[lving_mask]\n",
        "# y = u[living_mask]"
      ],
      "execution_count": 9,
      "outputs": [
        {
          "output_type": "execute_result",
          "data": {
            "text/plain": [
              "(802, 802)"
            ]
          },
          "metadata": {
            "tags": []
          },
          "execution_count": 9
        }
      ]
    },
    {
      "cell_type": "code",
      "metadata": {
        "id": "GVXtOYHrAi9o",
        "colab_type": "code",
        "colab": {
          "base_uri": "https://localhost:8080/",
          "height": 34
        },
        "outputId": "ceefd5a0-9373-4fef-96d1-bda98ba73598"
      },
      "source": [
        "dat['responses'].shape"
      ],
      "execution_count": 10,
      "outputs": [
        {
          "output_type": "execute_result",
          "data": {
            "text/plain": [
              "(1750, 8428)"
            ]
          },
          "metadata": {
            "tags": []
          },
          "execution_count": 10
        }
      ]
    },
    {
      "cell_type": "code",
      "metadata": {
        "id": "pNj65TboAW2p",
        "colab_type": "code",
        "colab": {
          "base_uri": "https://localhost:8080/",
          "height": 34
        },
        "outputId": "abcb2264-0d1e-4f39-ade6-760e4777c9af"
      },
      "source": [
        "dat['responses'] = np.vstack((dat['responses'], dat['responses_test']))\n",
        "dat['responses'][non_living_mask].shape"
      ],
      "execution_count": 11,
      "outputs": [
        {
          "output_type": "execute_result",
          "data": {
            "text/plain": [
              "(802, 8428)"
            ]
          },
          "metadata": {
            "tags": []
          },
          "execution_count": 11
        }
      ]
    },
    {
      "cell_type": "markdown",
      "metadata": {
        "id": "2yonuDOmJZOF",
        "colab_type": "text"
      },
      "source": [
        "##Splitting the voxels according to RoI"
      ]
    },
    {
      "cell_type": "code",
      "metadata": {
        "id": "I_NZRHYVVT-p",
        "colab_type": "code",
        "colab": {
          "base_uri": "https://localhost:8080/",
          "height": 34
        },
        "outputId": "8aa66f94-ac38-4ff5-b7b2-8d93f2c72059"
      },
      "source": [
        "X0 = dat['responses'][non_living_mask|living_mask] #independent variable\n",
        "y0 = labels.T[:,0][non_living_mask | living_mask] #dependent variable\n",
        "#y0 = labels[0,:]\n",
        "print(y0.shape)"
      ],
      "execution_count": 12,
      "outputs": [
        {
          "output_type": "stream",
          "text": [
            "(1604,)\n"
          ],
          "name": "stdout"
        }
      ]
    },
    {
      "cell_type": "code",
      "metadata": {
        "id": "JGKcZK-WQ6Pt",
        "colab_type": "code",
        "colab": {
          "base_uri": "https://localhost:8080/",
          "height": 52
        },
        "outputId": "879edb43-c5e3-4363-b882-32fcee273e03"
      },
      "source": [
        "'''X0 = dat['responses'] #independent variable\n",
        "y0 = labels.T[:,0] #dependent variable\n",
        "#y0 = labels[0,:]\n",
        "print(y0.shape)'''"
      ],
      "execution_count": null,
      "outputs": [
        {
          "output_type": "execute_result",
          "data": {
            "application/vnd.google.colaboratory.intrinsic+json": {
              "type": "string"
            },
            "text/plain": [
              "\"X0 = dat['responses'] #independent variable\\ny0 = labels.T[:,0] #dependent variable\\n#y0 = labels[0,:]\\nprint(y0.shape)\""
            ]
          },
          "metadata": {
            "tags": []
          },
          "execution_count": 10
        }
      ]
    },
    {
      "cell_type": "code",
      "metadata": {
        "id": "bH5sbuPxVSsi",
        "colab_type": "code",
        "colab": {
          "base_uri": "https://localhost:8080/",
          "height": 34
        },
        "outputId": "bc1e0543-440f-4bd4-ef87-158976f78935"
      },
      "source": [
        "X0.shape, y0.shape"
      ],
      "execution_count": 13,
      "outputs": [
        {
          "output_type": "execute_result",
          "data": {
            "text/plain": [
              "((1604, 8428), (1604,))"
            ]
          },
          "metadata": {
            "tags": []
          },
          "execution_count": 13
        }
      ]
    },
    {
      "cell_type": "code",
      "metadata": {
        "id": "pKygSZjPdeFq",
        "colab_type": "code",
        "colab": {
          "base_uri": "https://localhost:8080/",
          "height": 35
        },
        "outputId": "f2a9c477-d569-4695-f693-b82b05d5505c"
      },
      "source": [
        "'''from sklearn.preprocessing import LabelEncoder\n",
        "le = LabelEncoder()\n",
        "y0 = le.fit_transform(y0)\n",
        "print(y0)'''"
      ],
      "execution_count": null,
      "outputs": [
        {
          "output_type": "execute_result",
          "data": {
            "application/vnd.google.colaboratory.intrinsic+json": {
              "type": "string"
            },
            "text/plain": [
              "'from sklearn.preprocessing import LabelEncoder\\nle = LabelEncoder()\\ny0 = le.fit_transform(y0)\\nprint(y0)'"
            ]
          },
          "metadata": {
            "tags": []
          },
          "execution_count": 12
        }
      ]
    },
    {
      "cell_type": "markdown",
      "metadata": {
        "id": "ihWFhRhkEC5J",
        "colab_type": "text"
      },
      "source": [
        "## Feature Scaling"
      ]
    },
    {
      "cell_type": "code",
      "metadata": {
        "id": "peax8Z2bQrZl",
        "colab_type": "code",
        "colab": {}
      },
      "source": [
        "from sklearn.preprocessing import StandardScaler\n",
        "def feature_scaling(X_train, X_test):\n",
        "  sc = StandardScaler()\n",
        "  X_train = sc.fit_transform(X_train)\n",
        "  X_test = sc.transform(X_test)\n",
        "  return (X_train, X_test)"
      ],
      "execution_count": 14,
      "outputs": []
    },
    {
      "cell_type": "markdown",
      "metadata": {
        "id": "rJ_cRt6RDdPy",
        "colab_type": "text"
      },
      "source": [
        "## Splitting the dataset into training and test set\n"
      ]
    },
    {
      "cell_type": "code",
      "metadata": {
        "id": "qIRQ2tdFbHML",
        "colab_type": "code",
        "colab": {}
      },
      "source": [
        "from sklearn.model_selection import train_test_split\n",
        "def train_test_data(X1,y1):\n",
        "  X_train, X_test, y_train, y_test = train_test_split(X1, y1, test_size = 0.25, random_state = 0)\n",
        "  X_train, X_test = feature_scaling(X_train, X_test)\n",
        "  #print(len(y_train))\n",
        "  #print(len(X_test))\n",
        "  return X_train, X_test, y_train, y_test"
      ],
      "execution_count": 15,
      "outputs": []
    },
    {
      "cell_type": "markdown",
      "metadata": {
        "id": "VicfIJ_3GaSJ",
        "colab_type": "text"
      },
      "source": [
        "## Training using Logistic Regression model and Predicting"
      ]
    },
    {
      "cell_type": "code",
      "metadata": {
        "id": "JmZqVjLoWxWH",
        "colab_type": "code",
        "colab": {}
      },
      "source": [
        "from sklearn.linear_model import LogisticRegression\n",
        "def logistic_regression(X_train,y_train):\n",
        "  #classifier = LogisticRegression(random_state = 0, max_iter=2000)\n",
        "  classifier = LogisticRegression(C=0.028571428571428574, class_weight=None, dual=False,\n",
        "                    fit_intercept=True, intercept_scaling=1, l1_ratio=None,\n",
        "                    max_iter=1000, multi_class='auto', n_jobs=None, penalty='l1',\n",
        "                    random_state=None, solver='liblinear', tol=0.0001, verbose=0,\n",
        "                    warm_start=False)\n",
        "#   '''LogisticRegression(C=0.04571428571428572, class_weight=None, dual=False,\n",
        "#                    fit_intercept=True, intercept_scaling=1, l1_ratio=None,\n",
        "#                    max_iter=1000, multi_class='auto', n_jobs=None, penalty='l1',\n",
        "#                    random_state=None, solver='liblinear', tol=0.0001, verbose=0,\n",
        "#                    warm_start=False)'''\n",
        "  classifier.fit(X_train, y_train)\n",
        "  y_pred = classifier.predict(X_test)\n",
        "  return y_pred, classifier"
      ],
      "execution_count": 16,
      "outputs": []
    },
    {
      "cell_type": "markdown",
      "metadata": {
        "id": "cCpN5RfXpBqY",
        "colab_type": "text"
      },
      "source": [
        "## Training using KNN Classifier and Predicting"
      ]
    },
    {
      "cell_type": "code",
      "metadata": {
        "id": "8LvAWUj3ozGN",
        "colab_type": "code",
        "colab": {}
      },
      "source": [
        "from sklearn.neighbors import KNeighborsClassifier\n",
        "def KNNClassifier(X_train,y_train):\n",
        "  classifier = KNeighborsClassifier(n_neighbors = 5, metric = 'minkowski', p = 2)\n",
        "  classifier.fit(X_train, y_train)\n",
        "  y_pred = classifier.predict(X_test)\n",
        "  return y_pred"
      ],
      "execution_count": 17,
      "outputs": []
    },
    {
      "cell_type": "code",
      "metadata": {
        "id": "dJZo4lh-sfzM",
        "colab_type": "code",
        "colab": {}
      },
      "source": [
        "from sklearn.tree import DecisionTreeClassifier\n",
        "def DecisionTree(X_train,y_train):\n",
        "  classifier = DecisionTreeClassifier(criterion = 'entropy', random_state = 0)\n",
        "  classifier.fit(X_train, y_train)\n",
        "  y_pred = classifier.predict(X_test)\n",
        "  return y_pred"
      ],
      "execution_count": 18,
      "outputs": []
    },
    {
      "cell_type": "code",
      "metadata": {
        "id": "M58wmSXOsz0u",
        "colab_type": "code",
        "colab": {}
      },
      "source": [
        "from sklearn.naive_bayes import GaussianNB\n",
        "def NaiveBayes(X_train,y_train):\n",
        "  classifier = GaussianNB()\n",
        "  classifier.fit(X_train, y_train)\n",
        "  y_pred = classifier.predict(X_test)\n",
        "  return y_pred"
      ],
      "execution_count": 19,
      "outputs": []
    },
    {
      "cell_type": "code",
      "metadata": {
        "id": "F3qnn89VrVAd",
        "colab_type": "code",
        "colab": {}
      },
      "source": [
        "from sklearn.svm import SVC\n",
        "def KernelSVM(X_train,y_train):\n",
        "  classifier = SVC(C=0.0001, break_ties=False, cache_size=200, class_weight=None, coef0=0.0,\n",
        "                  decision_function_shape='ovr', degree=3, gamma=100, kernel='linear',\n",
        "                  max_iter=-1, probability=False, random_state=None, shrinking=True,\n",
        "                  tol=0.001, verbose=False)\n",
        "  #classifier = SVC(kernel = 'rbf', random_state = 0) \n",
        "  #classifier = SVC(kernel = 'linear', random_state = 0)\n",
        "  classifier.fit(X_train, y_train)\n",
        "  y_pred = classifier.predict(X_test)\n",
        "  return y_pred"
      ],
      "execution_count": 20,
      "outputs": []
    },
    {
      "cell_type": "code",
      "metadata": {
        "id": "e0pFVAmciHQs",
        "colab_type": "code",
        "colab": {}
      },
      "source": [
        "from sklearn.ensemble import RandomForestClassifier\n",
        "def RandomForest(X_train,y_train):\n",
        "  #classifier = RandomForestClassifier(n_estimators = 10, criterion = 'entropy', random_state = 0) #gini\n",
        "  classifier = RandomForestClassifier(bootstrap=True, ccp_alpha=0.0, class_weight=None,\n",
        "                        criterion='entropy', max_depth=100, max_features=2,\n",
        "                        max_leaf_nodes=None, max_samples=None,\n",
        "                        min_impurity_decrease=0.0, min_impurity_split=None,\n",
        "                        min_samples_leaf=4, min_samples_split=10,\n",
        "                        min_weight_fraction_leaf=0.0, n_estimators=1000,\n",
        "                        n_jobs=None, oob_score=False, random_state=None,\n",
        "                        verbose=0, warm_start=False)\n",
        "  classifier.fit(X_train, y_train)\n",
        "  y_pred = classifier.predict(X_test)\n",
        "  return y_pred"
      ],
      "execution_count": 21,
      "outputs": []
    },
    {
      "cell_type": "markdown",
      "metadata": {
        "id": "riCujqy1-2Ve",
        "colab_type": "text"
      },
      "source": [
        "##Making the Confusion Matrix and Accuracy Score"
      ]
    },
    {
      "cell_type": "code",
      "metadata": {
        "id": "oKv8EdpBYXgw",
        "colab_type": "code",
        "colab": {}
      },
      "source": [
        "from sklearn.metrics import confusion_matrix, accuracy_score\n",
        "def accuracy_score_LR(y_test, y_pred):\n",
        "  cm = confusion_matrix(y_test, y_pred)\n",
        "  #print(np.concatenate((y_pred.reshape(len(y_pred),1), y_test.reshape(len(y_test),1)),1))\n",
        "  #print(cm)\n",
        "  accuracy = accuracy_score(y_test, y_pred)\n",
        "  return accuracy"
      ],
      "execution_count": 22,
      "outputs": []
    },
    {
      "cell_type": "code",
      "metadata": {
        "id": "In3DaYoeq4kv",
        "colab_type": "code",
        "colab": {
          "base_uri": "https://localhost:8080/",
          "height": 153
        },
        "outputId": "0c7c2934-0798-4427-b273-9264b49923dd"
      },
      "source": [
        "#Testing Category classes and the number of images in it\n",
        "for category in np.unique(labels[0]):\n",
        "  y1 = (labels.T[:, 0]==category)\n",
        "  print(np.sum(y1), category)"
      ],
      "execution_count": 23,
      "outputs": [
        {
          "output_type": "stream",
          "text": [
            "643 animal\n",
            "862 artifact\n",
            "76 entity\n",
            "78 fruit\n",
            "6 fungus\n",
            "202 geological formation\n",
            "2 person\n",
            "1 plant\n"
          ],
          "name": "stdout"
        }
      ]
    },
    {
      "cell_type": "code",
      "metadata": {
        "id": "0a8UmN39V1lc",
        "colab_type": "code",
        "colab": {
          "base_uri": "https://localhost:8080/",
          "height": 34
        },
        "outputId": "9e1a1693-c830-4e59-f8fb-14813ca659d9"
      },
      "source": [
        "X0.shape, y0.shape"
      ],
      "execution_count": 24,
      "outputs": [
        {
          "output_type": "execute_result",
          "data": {
            "text/plain": [
              "((1604, 8428), (1604,))"
            ]
          },
          "metadata": {
            "tags": []
          },
          "execution_count": 24
        }
      ]
    },
    {
      "cell_type": "code",
      "metadata": {
        "id": "EnmuYAo3Svnz",
        "colab_type": "code",
        "colab": {
          "base_uri": "https://localhost:8080/",
          "height": 52
        },
        "outputId": "e65ec43b-e63e-4837-ffef-b2f09fc5fad7"
      },
      "source": [
        "'''y0 = labels.T[non_living_mask | living_mask]\n",
        "y_living = y0[y0[:, 0] == 'artifact']\n",
        "y_non_living = y0[y0[:, 0] != 'artifact']\n",
        "y_living.shape, y_non_living.shape'''"
      ],
      "execution_count": null,
      "outputs": [
        {
          "output_type": "execute_result",
          "data": {
            "application/vnd.google.colaboratory.intrinsic+json": {
              "type": "string"
            },
            "text/plain": [
              "\"y0 = labels.T[non_living_mask | living_mask]\\ny_living = y0[y0[:, 0] == 'artifact']\\ny_non_living = y0[y0[:, 0] != 'artifact']\\ny_living.shape, y_non_living.shape\""
            ]
          },
          "metadata": {
            "tags": []
          },
          "execution_count": 24
        }
      ]
    },
    {
      "cell_type": "markdown",
      "metadata": {
        "id": "QG1DYgIHQe55",
        "colab_type": "text"
      },
      "source": [
        "## Contrast Comparison"
      ]
    },
    {
      "cell_type": "code",
      "metadata": {
        "id": "B4z6qE-5Qjo5",
        "colab_type": "code",
        "colab": {
          "base_uri": "https://localhost:8080/",
          "height": 34
        },
        "outputId": "77f5ab8f-ab97-4b2f-84ec-033cf411b299"
      },
      "source": [
        "dat['stimuli'] = np.vstack((dat['stimuli'], dat['stimuli_test']))\n",
        "dat['stimuli'].shape"
      ],
      "execution_count": 25,
      "outputs": [
        {
          "output_type": "execute_result",
          "data": {
            "text/plain": [
              "(1870, 128, 128)"
            ]
          },
          "metadata": {
            "tags": []
          },
          "execution_count": 25
        }
      ]
    },
    {
      "cell_type": "code",
      "metadata": {
        "id": "2rwibxFSQiLe",
        "colab_type": "code",
        "colab": {}
      },
      "source": [
        "def shift_and_scale(im):\n",
        "  return np.floor(128*(im - dat['stimuli'].min()))\n",
        "def contrast1(im):\n",
        "  mean = np.mean(im)\n",
        "  return np.sum(((im-mean)/mean)**2)/(im.shape[0] * im.shape[1])\n",
        "\n",
        "def contrast2(im):\n",
        "  mean = np.mean(im)\n",
        "  return np.sum(((im-mean)/mean)**2)/(im.size)\n",
        "\n",
        "def contrast3(im):\n",
        "  mean = np.mean(im)\n",
        "  return (np.max(im) - np.min(im))/(np.max(im) + np.min(im))\n"
      ],
      "execution_count": 26,
      "outputs": []
    },
    {
      "cell_type": "code",
      "metadata": {
        "id": "SgbylabzFDdY",
        "colab_type": "code",
        "colab": {
          "base_uri": "https://localhost:8080/",
          "height": 1000
        },
        "outputId": "44750571-320d-402d-cc40-f279f6ae6307"
      },
      "source": [
        "m1 = dat['stimuli'].shape[0]\n",
        "res = np.zeros(m1)\n",
        "for k in range(m1):\n",
        "  img = dat['stimuli'][k]\n",
        "  r = 60\n",
        "  res1 = []\n",
        "  m, n = img.shape\n",
        "  for i in range(m):\n",
        "    for j in range(n):\n",
        "      x = j-60\n",
        "      y = 60-i\n",
        "      if (x*x + y*y)**.5 <= r:\n",
        "        res1.append(img[i][j])\n",
        "  res[k] = contrast2(shift_and_scale(np.array(res1)))\n",
        "  print(contrast2(shift_and_scale(np.array(res1))), res[k])\n",
        "  #print(len(res1))"
      ],
      "execution_count": null,
      "outputs": [
        {
          "output_type": "stream",
          "text": [
            "0.30076351633780674 0.30076351633780674\n",
            "5.528248253277527 5.528248253277527\n",
            "0.6666413205055807 0.6666413205055807\n",
            "0.2571340360361857 0.2571340360361857\n",
            "0.21144117925912392 0.21144117925912392\n",
            "0.33018755467158295 0.33018755467158295\n",
            "0.158987147506699 0.158987147506699\n",
            "0.1715381252975795 0.1715381252975795\n",
            "0.10423963419866684 0.10423963419866684\n",
            "0.20002074405948267 0.20002074405948267\n",
            "0.16171787196745727 0.16171787196745727\n",
            "0.09337021848563867 0.09337021848563867\n",
            "0.5087202472401231 0.5087202472401231\n",
            "0.36584082299417575 0.36584082299417575\n",
            "0.39858979323068916 0.39858979323068916\n",
            "0.15801525631283772 0.15801525631283772\n",
            "0.19124591174207192 0.19124591174207192\n",
            "0.6937326469627514 0.6937326469627514\n",
            "0.05839867430926953 0.05839867430926953\n",
            "0.5197587599100895 0.5197587599100895\n",
            "0.24215592543072903 0.24215592543072903\n",
            "0.4521143542663212 0.4521143542663212\n",
            "0.4087936126982018 0.4087936126982018\n",
            "0.39155623352932056 0.39155623352932056\n",
            "0.30398399264494197 0.30398399264494197\n",
            "0.1902934194445367 0.1902934194445367\n",
            "0.6744485004069226 0.6744485004069226\n",
            "0.29004628572338115 0.29004628572338115\n",
            "0.11952129319747098 0.11952129319747098\n",
            "0.40908024923321373 0.40908024923321373\n",
            "0.30686465305690275 0.30686465305690275\n",
            "0.4793340118838028 0.4793340118838028\n",
            "0.7722625800004429 0.7722625800004429\n",
            "0.45209688012113564 0.45209688012113564\n",
            "0.22951669023081098 0.22951669023081098\n",
            "0.2821921981228962 0.2821921981228962\n",
            "0.3508366525558619 0.3508366525558619\n",
            "0.3405372875766786 0.3405372875766786\n",
            "0.2361740367766742 0.2361740367766742\n",
            "0.22600153236142484 0.22600153236142484\n",
            "0.27086999011067187 0.27086999011067187\n",
            "0.12791094820940185 0.12791094820940185\n",
            "0.08946364408937904 0.08946364408937904\n",
            "0.09515782570076513 0.09515782570076513\n",
            "0.5808709494585437 0.5808709494585437\n",
            "0.31509856542458364 0.31509856542458364\n",
            "0.26058178436282 0.26058178436282\n",
            "0.15456177698561652 0.15456177698561652\n",
            "0.1434848341720923 0.1434848341720923\n",
            "0.17761112604775667 0.17761112604775667\n",
            "0.5012140638148862 0.5012140638148862\n",
            "0.1666313182875753 0.1666313182875753\n",
            "0.4317824510447117 0.4317824510447117\n",
            "0.3573726100213704 0.3573726100213704\n",
            "0.4981641766874834 0.4981641766874834\n",
            "0.20764736500271283 0.20764736500271283\n",
            "0.15976895330562385 0.15976895330562385\n",
            "0.5396425205122243 0.5396425205122243\n",
            "0.6335933866761893 0.6335933866761893\n",
            "0.0870136088988728 0.0870136088988728\n",
            "0.30573906291522723 0.30573906291522723\n",
            "0.2688315488943883 0.2688315488943883\n",
            "0.48069764400079723 0.48069764400079723\n",
            "0.5316165677733856 0.5316165677733856\n",
            "0.2939434093752768 0.2939434093752768\n",
            "0.5155126723884976 0.5155126723884976\n",
            "0.3168156813324918 0.3168156813324918\n",
            "0.4180113107892639 0.4180113107892639\n",
            "0.29322346594306403 0.29322346594306403\n",
            "0.5878914900566924 0.5878914900566924\n",
            "0.12600060026283882 0.12600060026283882\n",
            "1.474433076446098 1.474433076446098\n",
            "0.2716620143917752 0.2716620143917752\n",
            "0.43573787951767207 0.43573787951767207\n",
            "0.20508461292519267 0.20508461292519267\n",
            "0.14840108111325184 0.14840108111325184\n",
            "0.10173595468002591 0.10173595468002591\n",
            "0.5704968435811409 0.5704968435811409\n",
            "0.6660796824480689 0.6660796824480689\n",
            "0.41857740388874126 0.41857740388874126\n",
            "0.13780039526170387 0.13780039526170387\n",
            "0.15935092547225174 0.15935092547225174\n",
            "0.11008925568446054 0.11008925568446054\n",
            "0.5486291187079236 0.5486291187079236\n",
            "0.37517660132374436 0.37517660132374436\n",
            "0.12484418166328949 0.12484418166328949\n",
            "0.7877417314421118 0.7877417314421118\n",
            "0.21816809798946984 0.21816809798946984\n",
            "0.43364889736413764 0.43364889736413764\n",
            "0.2637565424237643 0.2637565424237643\n",
            "0.1334880768371036 0.1334880768371036\n",
            "0.2687334514654752 0.2687334514654752\n",
            "0.19954338415022366 0.19954338415022366\n",
            "0.41020754786185665 0.41020754786185665\n",
            "0.12758119941148463 0.12758119941148463\n",
            "0.3168558199630171 0.3168558199630171\n",
            "0.358173760650578 0.358173760650578\n",
            "0.25333991900993225 0.25333991900993225\n",
            "0.1692444923570511 0.1692444923570511\n",
            "0.571112980210271 0.571112980210271\n",
            "0.053744934228009564 0.053744934228009564\n",
            "0.14619946857837277 0.14619946857837277\n",
            "0.2303309248424905 0.2303309248424905\n",
            "0.29499473439991364 0.29499473439991364\n",
            "0.2463471683580255 0.2463471683580255\n",
            "0.9613934713825405 0.9613934713825405\n",
            "0.07169841814003122 0.07169841814003122\n",
            "0.14615057124883737 0.14615057124883737\n",
            "0.2231018839550669 0.2231018839550669\n",
            "0.4026650753083754 0.4026650753083754\n",
            "0.4189815151225751 0.4189815151225751\n",
            "0.8044546267384179 0.8044546267384179\n",
            "0.13258181100656613 0.13258181100656613\n",
            "0.20462922545591947 0.20462922545591947\n",
            "0.46695427206517404 0.46695427206517404\n",
            "0.15351763193152626 0.15351763193152626\n",
            "0.2729046683303437 0.2729046683303437\n",
            "0.4551661012656125 0.4551661012656125\n",
            "1.064384785521304 1.064384785521304\n",
            "0.5454078205969306 0.5454078205969306\n",
            "1.1714781984952165 1.1714781984952165\n",
            "0.3277720136166844 0.3277720136166844\n",
            "0.20350493289928248 0.20350493289928248\n",
            "0.394025883880326 0.394025883880326\n",
            "0.35971635137080343 0.35971635137080343\n",
            "0.37785070782398794 0.37785070782398794\n",
            "0.737644049240411 0.737644049240411\n",
            "0.14135244779901895 0.14135244779901895\n",
            "0.37492197188634957 0.37492197188634957\n",
            "0.13327346708493887 0.13327346708493887\n",
            "0.45083458939565063 0.45083458939565063\n",
            "0.26321756885159225 0.26321756885159225\n",
            "0.19734724309892374 0.19734724309892374\n",
            "0.4564587987338338 0.4564587987338338\n",
            "0.5114474682212774 0.5114474682212774\n",
            "0.06939441533240323 0.06939441533240323\n",
            "0.18046361805117261 0.18046361805117261\n",
            "0.08532449920137966 0.08532449920137966\n",
            "0.30792886742625564 0.30792886742625564\n",
            "0.09929651643400102 0.09929651643400102\n",
            "0.11773964406031313 0.11773964406031313\n",
            "0.18371388474815087 0.18371388474815087\n",
            "0.3478757365092679 0.3478757365092679\n",
            "0.39948426185058467 0.39948426185058467\n",
            "0.15314784182196164 0.15314784182196164\n",
            "0.1340646046829325 0.1340646046829325\n",
            "0.032202084098908505 0.032202084098908505\n",
            "0.11228336385253344 0.11228336385253344\n",
            "0.23419348947952653 0.23419348947952653\n",
            "0.1876572673066702 0.1876572673066702\n",
            "0.20088381112144565 0.20088381112144565\n",
            "0.17814490927977455 0.17814490927977455\n",
            "0.2256864570876517 0.2256864570876517\n",
            "0.2532811816605213 0.2532811816605213\n",
            "0.1180805629027704 0.1180805629027704\n",
            "0.14284640070671673 0.14284640070671673\n",
            "0.2150469950698689 0.2150469950698689\n",
            "0.10796519548205111 0.10796519548205111\n",
            "0.33642030976642084 0.33642030976642084\n",
            "0.17349531606403357 0.17349531606403357\n",
            "0.2287711843733391 0.2287711843733391\n",
            "0.21688537029962796 0.21688537029962796\n",
            "0.2223057290282576 0.2223057290282576\n",
            "0.06734735598882208 0.06734735598882208\n",
            "0.048622068495880945 0.048622068495880945\n",
            "0.5126942744319691 0.5126942744319691\n",
            "0.2310779661755913 0.2310779661755913\n",
            "0.3402394918103353 0.3402394918103353\n",
            "0.2412701290041744 0.2412701290041744\n",
            "0.12677875119723847 0.12677875119723847\n",
            "0.18365958081428824 0.18365958081428824\n",
            "0.21525032664540703 0.21525032664540703\n",
            "0.046552723129263 0.046552723129263\n",
            "0.9999242210337497 0.9999242210337497\n",
            "0.08316392279334418 0.08316392279334418\n",
            "0.22438991011714943 0.22438991011714943\n",
            "0.10964744960525732 0.10964744960525732\n",
            "0.47087146503233235 0.47087146503233235\n",
            "0.2447488679868124 0.2447488679868124\n",
            "0.1983320236375011 0.1983320236375011\n",
            "0.1608784425796129 0.1608784425796129\n",
            "0.20148522016038842 0.20148522016038842\n",
            "0.4655530964877314 0.4655530964877314\n",
            "0.3968426814819736 0.3968426814819736\n",
            "0.11082223984631057 0.11082223984631057\n",
            "0.16390244288549694 0.16390244288549694\n",
            "0.3727520636792453 0.3727520636792453\n",
            "0.09772160503310745 0.09772160503310745\n",
            "0.3090029001890668 0.3090029001890668\n",
            "0.13871886920481222 0.13871886920481222\n",
            "0.7237165067349853 0.7237165067349853\n",
            "0.34771970190838425 0.34771970190838425\n",
            "0.11299684098597086 0.11299684098597086\n",
            "0.46514206480035875 0.46514206480035875\n",
            "0.3637687959518115 0.3637687959518115\n",
            "0.7875899139926035 0.7875899139926035\n",
            "0.09904136796259079 0.09904136796259079\n",
            "0.03701009893134356 0.03701009893134356\n",
            "0.28875380451933297 0.28875380451933297\n",
            "0.6225641733656657 0.6225641733656657\n",
            "0.71385191924938 0.71385191924938\n",
            "0.42752001395163436 0.42752001395163436\n",
            "1.1090773339921605 1.1090773339921605\n",
            "0.2623221702957525 0.2623221702957525\n",
            "0.704716920578107 0.704716920578107\n",
            "0.18336334214999114 0.18336334214999114\n",
            "0.02862543421520673 0.02862543421520673\n",
            "0.21029043759411817 0.21029043759411817\n",
            "0.5254729783971123 0.5254729783971123\n",
            "0.08589309555866054 0.08589309555866054\n",
            "0.12917582329175525 0.12917582329175525\n",
            "0.18254119226957657 0.18254119226957657\n",
            "0.18307679212064842 0.18307679212064842\n",
            "0.47005485151474885 0.47005485151474885\n",
            "0.29921768165498497 0.29921768165498497\n",
            "0.5063047061852246 0.5063047061852246\n",
            "0.19327790828599742 0.19327790828599742\n",
            "0.2097975715436487 0.2097975715436487\n",
            "0.25940943790692267 0.25940943790692267\n",
            "0.4036958336101515 0.4036958336101515\n",
            "0.464191843276641 0.464191843276641\n",
            "0.12532798624490654 0.12532798624490654\n",
            "0.14134813332876583 0.14134813332876583\n",
            "0.17813969731320312 0.17813969731320312\n",
            "0.33661038434814866 0.33661038434814866\n",
            "0.2152772947877912 0.2152772947877912\n",
            "0.12043755043280517 0.12043755043280517\n",
            "0.10137951888314953 0.10137951888314953\n",
            "0.44076256131521835 0.44076256131521835\n",
            "0.26391964886310787 0.26391964886310787\n",
            "0.48343364530737887 0.48343364530737887\n",
            "0.25016023012584154 0.25016023012584154\n",
            "0.17866717644457547 0.17866717644457547\n",
            "0.5390278977323057 0.5390278977323057\n",
            "0.4741690611435911 0.4741690611435911\n",
            "0.23343221796383648 0.23343221796383648\n",
            "0.23677313178896492 0.23677313178896492\n",
            "0.6872046696452299 0.6872046696452299\n",
            "0.08796140285724766 0.08796140285724766\n",
            "0.5955096118179201 0.5955096118179201\n",
            "0.10851266823622553 0.10851266823622553\n",
            "0.12115256304187151 0.12115256304187151\n",
            "0.31132229019261004 0.31132229019261004\n",
            "0.505655913665958 0.505655913665958\n",
            "0.1893187816956772 0.1893187816956772\n",
            "0.503388773086633 0.503388773086633\n",
            "0.24385517791794004 0.24385517791794004\n",
            "0.10153866768812561 0.10153866768812561\n",
            "0.766666182234919 0.766666182234919\n",
            "0.7529379055385774 0.7529379055385774\n",
            "0.5486823629473381 0.5486823629473381\n",
            "0.33212115101675305 0.33212115101675305\n",
            "0.2529250594466959 0.2529250594466959\n",
            "0.19795775685955355 0.19795775685955355\n",
            "0.22663564054333865 0.22663564054333865\n",
            "0.22195416998848436 0.22195416998848436\n",
            "0.07928680357745925 0.07928680357745925\n",
            "0.063387521133335 0.063387521133335\n",
            "0.30209989916899194 0.30209989916899194\n",
            "0.09304184296522057 0.09304184296522057\n",
            "0.20046460464833024 0.20046460464833024\n",
            "0.29168068058508284 0.29168068058508284\n",
            "0.750988327271016 0.750988327271016\n",
            "0.32432586564493093 0.32432586564493093\n",
            "0.21119297286766986 0.21119297286766986\n",
            "0.30191763172391267 0.30191763172391267\n",
            "0.1834871533890845 0.1834871533890845\n",
            "0.058306545771533685 0.058306545771533685\n",
            "0.2147156999831141 0.2147156999831141\n",
            "0.3516717999130791 0.3516717999130791\n",
            "0.26150058270218796 0.26150058270218796\n",
            "0.2752054596150013 0.2752054596150013\n",
            "0.07060697611128643 0.07060697611128643\n",
            "0.39858949046084685 0.39858949046084685\n",
            "0.2529761410443795 0.2529761410443795\n",
            "0.3181745988905129 0.3181745988905129\n",
            "0.1742471692749856 0.1742471692749856\n",
            "0.2905297442823213 0.2905297442823213\n",
            "0.2226961507399349 0.2226961507399349\n",
            "0.33265093336156876 0.33265093336156876\n",
            "0.17854752829081408 0.17854752829081408\n",
            "0.6395189385131544 0.6395189385131544\n",
            "0.379679351165958 0.379679351165958\n",
            "0.1333737379687915 0.1333737379687915\n",
            "0.1264346532714368 0.1264346532714368\n",
            "0.130257879455388 0.130257879455388\n",
            "0.13607938659868013 0.13607938659868013\n",
            "0.2399797888154398 0.2399797888154398\n",
            "0.2749115566037736 0.2749115566037736\n",
            "0.06302592202932611 0.06302592202932611\n",
            "0.422589147552374 0.422589147552374\n",
            "0.16452069890352333 0.16452069890352333\n",
            "0.24138187270240943 0.24138187270240943\n",
            "0.05656678159809881 0.05656678159809881\n",
            "0.4450824814255027 0.4450824814255027\n",
            "0.221542878784104 0.221542878784104\n",
            "0.49985233482261493 0.49985233482261493\n",
            "0.2502163074259235 0.2502163074259235\n",
            "0.18912948566497254 0.18912948566497254\n",
            "0.10123408122674728 0.10123408122674728\n",
            "0.13577382694852289 0.13577382694852289\n",
            "0.31582782984265656 0.31582782984265656\n",
            "0.12259283918180862 0.12259283918180862\n",
            "0.5383161290858358 0.5383161290858358\n",
            "0.06633413671148353 0.06633413671148353\n",
            "0.04652182979213726 0.04652182979213726\n",
            "0.28136864252535654 0.28136864252535654\n",
            "0.6832663260419435 0.6832663260419435\n",
            "0.08379597646561365 0.08379597646561365\n",
            "0.17632926341460714 0.17632926341460714\n",
            "0.13703575002491364 0.13703575002491364\n",
            "0.6573177394753743 0.6573177394753743\n",
            "0.36366697877912124 0.36366697877912124\n",
            "0.21891178722788776 0.21891178722788776\n",
            "0.26532612291279123 0.26532612291279123\n",
            "0.1661614303054965 0.1661614303054965\n",
            "0.23565720865582646 0.23565720865582646\n",
            "0.1664487480726537 0.1664487480726537\n",
            "0.2119717617813801 0.2119717617813801\n",
            "0.19112726921671538 0.19112726921671538\n",
            "0.18303892426394056 0.18303892426394056\n",
            "0.1209302867247708 0.1209302867247708\n",
            "0.6991413274260342 0.6991413274260342\n",
            "0.7115490950814952 0.7115490950814952\n",
            "0.10099032987725884 0.10099032987725884\n",
            "0.22224839739597174 0.22224839739597174\n",
            "0.2766119985439366 0.2766119985439366\n",
            "0.03615134633963371 0.03615134633963371\n",
            "0.4584681091660023 0.4584681091660023\n",
            "0.09925085225385331 0.09925085225385331\n",
            "0.11715592543072903 0.11715592543072903\n",
            "0.20501493260862344 0.20501493260862344\n",
            "0.11624643726401253 0.11624643726401253\n",
            "0.5022109983999912 0.5022109983999912\n",
            "0.042018996147556525 0.042018996147556525\n",
            "2.7893131934294444 2.7893131934294444\n",
            "0.2323296167037603 0.2323296167037603\n",
            "0.1796220152083887 0.1796220152083887\n",
            "0.4350149948927053 0.4350149948927053\n",
            "0.19787354359055276 0.19787354359055276\n",
            "0.13851762457854438 0.13851762457854438\n",
            "0.1833369146680397 0.1833369146680397\n",
            "0.2394219137545398 0.2394219137545398\n",
            "0.2631298737294047 0.2631298737294047\n",
            "0.5441573378952963 0.5441573378952963\n",
            "1.46170359420675 1.46170359420675\n",
            "0.12017239974338959 0.12017239974338959\n",
            "0.47127691710403935 0.47127691710403935\n",
            "0.9231649725396404 0.9231649725396404\n",
            "0.10600148435077841 0.10600148435077841\n",
            "0.25578859173614804 0.25578859173614804\n",
            "0.3728655591172823 0.3728655591172823\n",
            "0.31339898854111303 0.31339898854111303\n",
            "0.3212375916268049 0.3212375916268049\n",
            "0.28612217230268405 0.28612217230268405\n",
            "0.435716166594694 0.435716166594694\n",
            "0.2661266463758969 0.2661266463758969\n",
            "0.09200452104579125 0.09200452104579125\n",
            "0.15555792220648973 0.15555792220648973\n",
            "0.308856164947626 0.308856164947626\n",
            "0.1637799076050248 0.1637799076050248\n",
            "0.38692480650411903 0.38692480650411903\n",
            "0.18874611416533793 0.18874611416533793\n",
            "0.09072156627856763 0.09072156627856763\n",
            "0.29717666689504163 0.29717666689504163\n",
            "0.0900517042222379 0.0900517042222379\n",
            "0.11383948189678558 0.11383948189678558\n",
            "0.28396511018746123 0.28396511018746123\n",
            "0.13979397247528014 0.13979397247528014\n",
            "0.029224599513353707 0.029224599513353707\n",
            "0.06274192391722584 0.06274192391722584\n",
            "0.3641534866629019 0.3641534866629019\n",
            "0.2199505256776508 0.2199505256776508\n",
            "0.19892119212424705 0.19892119212424705\n",
            "0.21680139492121756 0.21680139492121756\n",
            "0.07169719084084894 0.07169719084084894\n",
            "0.35435217807434227 0.35435217807434227\n",
            "0.2707181510347462 0.2707181510347462\n",
            "0.949817023208433 0.949817023208433\n",
            "0.1127574365463615 0.1127574365463615\n",
            "0.3220929813106232 0.3220929813106232\n",
            "0.0651414343902942 0.0651414343902942\n",
            "0.9087767440927008 0.9087767440927008\n",
            "0.08476574827057866 0.08476574827057866\n",
            "0.10718417904735805 0.10718417904735805\n",
            "0.2347423463244087 0.2347423463244087\n",
            "0.11524829159953827 0.11524829159953827\n",
            "0.18913223221997078 0.18913223221997078\n",
            "0.1805060815215586 0.1805060815215586\n",
            "0.45989112742492694 0.45989112742492694\n",
            "0.12181873238744574 0.12181873238744574\n",
            "0.5203056487509965 0.5203056487509965\n",
            "0.2332611530029232 0.2332611530029232\n",
            "0.10620838428517251 0.10620838428517251\n",
            "0.34030971278733724 0.34030971278733724\n",
            "0.3061698827744375 0.3061698827744375\n",
            "0.2911666638984853 0.2911666638984853\n",
            "0.29418354911307465 0.29418354911307465\n",
            "0.08763815820433608 0.08763815820433608\n",
            "0.24256193978928603 0.24256193978928603\n",
            "0.1535072728776353 0.1535072728776353\n",
            "0.4019440938081318 0.4019440938081318\n",
            "0.5740649861729338 0.5740649861729338\n",
            "0.23343059598253832 0.23343059598253832\n",
            "0.15184558547728985 0.15184558547728985\n",
            "0.1147896493544601 0.1147896493544601\n",
            "0.06908440064028036 0.06908440064028036\n",
            "0.3286309716593587 0.3286309716593587\n",
            "0.726437239790947 0.726437239790947\n",
            "0.16352472669398863 0.16352472669398863\n",
            "0.25396384114929355 0.25396384114929355\n",
            "0.1323569070797624 0.1323569070797624\n",
            "0.2967634509395208 0.2967634509395208\n",
            "0.3258527555861901 0.3258527555861901\n",
            "0.8675056678514483 0.8675056678514483\n",
            "0.6051160663865267 0.6051160663865267\n",
            "0.1823338598068363 0.1823338598068363\n",
            "0.8714769701147135 0.8714769701147135\n",
            "0.33661866726597794 0.33661866726597794\n",
            "0.14682718615397178 0.14682718615397178\n",
            "0.47816423897156524 0.47816423897156524\n",
            "0.153003636871346 0.153003636871346\n",
            "0.9625231489170875 0.9625231489170875\n",
            "0.0714272823396254 0.0714272823396254\n",
            "0.9300990939742227 0.9300990939742227\n",
            "0.36724156604327224 0.36724156604327224\n",
            "0.17781316003825626 0.17781316003825626\n",
            "0.26489342155527507 0.26489342155527507\n",
            "0.034407397454449574 0.034407397454449574\n",
            "0.14953832789385685 0.14953832789385685\n",
            "0.2774795206478652 0.2774795206478652\n",
            "0.3737159963515369 0.3737159963515369\n",
            "0.39210554452896623 0.39210554452896623\n",
            "0.24365102453854415 0.24365102453854415\n",
            "0.20623989613783328 0.20623989613783328\n",
            "1.9443977890535034 1.9443977890535034\n",
            "0.09188188844644123 0.09188188844644123\n",
            "0.2716571917007153 0.2716571917007153\n",
            "0.08410784021641643 0.08410784021641643\n",
            "0.29012517889372397 0.29012517889372397\n",
            "0.5877782973884976 0.5877782973884976\n",
            "0.19988149155843077 0.19988149155843077\n",
            "0.2149535473206772 0.2149535473206772\n",
            "0.31600479881549515 0.31600479881549515\n",
            "0.13904363311353973 0.13904363311353973\n",
            "0.10134519775888033 0.10134519775888033\n",
            "0.28298417915116486 0.28298417915116486\n",
            "0.2060269191801754 0.2060269191801754\n",
            "0.13510927958424684 0.13510927958424684\n",
            "1.263749730102312 1.263749730102312\n",
            "0.3687553287492249 0.3687553287492249\n",
            "0.6475873222827532 0.6475873222827532\n",
            "0.18318397264483124 0.18318397264483124\n",
            "0.4120709232300248 0.4120709232300248\n",
            "0.11319718811592036 0.11319718811592036\n",
            "0.5466619365366728 0.5466619365366728\n",
            "0.8982984853895385 0.8982984853895385\n",
            "0.1423223277360705 0.1423223277360705\n",
            "0.10854631894155815 0.10854631894155815\n",
            "0.22241771061708301 0.22241771061708301\n",
            "0.2628544180521415 0.2628544180521415\n",
            "0.17666232105437263 0.17666232105437263\n",
            "0.11783678992686465 0.11783678992686465\n",
            "0.0978730223938956 0.0978730223938956\n",
            "0.34382365957735406 0.34382365957735406\n",
            "0.6417913559383027 0.6417913559383027\n",
            "0.22427609028285278 0.22427609028285278\n",
            "0.3289371584756179 0.3289371584756179\n",
            "0.1953483349734808 0.1953483349734808\n",
            "0.16635147244759832 0.16635147244759832\n",
            "0.233235093170066 0.233235093170066\n",
            "0.16053400944434296 0.16053400944434296\n",
            "0.5619842099471831 0.5619842099471831\n",
            "0.284131936370582 0.284131936370582\n",
            "0.6801293709584552 0.6801293709584552\n",
            "0.4278690643269997 0.4278690643269997\n",
            "0.12162440821471676 0.12162440821471676\n",
            "0.23214674371899638 0.23214674371899638\n",
            "0.0402410964904996 0.0402410964904996\n",
            "0.6139512364082292 0.6139512364082292\n",
            "0.45084925210658605 0.45084925210658605\n",
            "0.17937848012307334 0.17937848012307334\n",
            "0.13053381091383204 0.13053381091383204\n",
            "0.8790815104858712 0.8790815104858712\n",
            "0.11420418979828262 0.11420418979828262\n",
            "0.4140714100839313 0.4140714100839313\n",
            "0.27926735494037336 0.27926735494037336\n",
            "0.29771068801764994 0.29771068801764994\n",
            "0.07302030045841085 0.07302030045841085\n",
            "0.1971016102511294 0.1971016102511294\n",
            "0.9753374932179555 0.9753374932179555\n",
            "0.30692070873056737 0.30692070873056737\n",
            "0.3178954450958898 0.3178954450958898\n",
            "0.24211704113240765 0.24211704113240765\n",
            "0.06961625912115776 0.06961625912115776\n",
            "0.7183978354205421 0.7183978354205421\n",
            "0.3727563889627071 0.3727563889627071\n",
            "0.17063333006341905 0.17063333006341905\n",
            "0.09092444369934229 0.09092444369934229\n",
            "0.28004819836372796 0.28004819836372796\n",
            "0.10559771913962153 0.10559771913962153\n",
            "0.09245767018087298 0.09245767018087298\n",
            "0.23258621414513023 0.23258621414513023\n",
            "0.5477798060473691 0.5477798060473691\n",
            "0.27667443401070735 0.27667443401070735\n",
            "0.23983086930585082 0.23983086930585082\n",
            "0.15213788813363674 0.15213788813363674\n",
            "0.22122332684194793 0.22122332684194793\n",
            "0.21395222257285854 0.21395222257285854\n",
            "0.23090378701058553 0.23090378701058553\n",
            "1.406386246429046 1.406386246429046\n",
            "0.16995022723309194 0.16995022723309194\n",
            "0.2367360857361148 0.2367360857361148\n",
            "0.17511096082192842 0.17511096082192842\n",
            "0.3026714853784658 0.3026714853784658\n",
            "0.2102666701614957 0.2102666701614957\n",
            "0.5263528275589069 0.5263528275589069\n",
            "0.45066188082702185 0.45066188082702185\n",
            "0.3192753186522832 0.3192753186522832\n",
            "0.3037685719021282 0.3037685719021282\n",
            "0.2074888217374214 0.2074888217374214\n",
            "0.2734288278066591 0.2734288278066591\n",
            "0.2744293740034547 0.2744293740034547\n",
            "0.2385093221969395 0.2385093221969395\n",
            "0.32805774184216935 0.32805774184216935\n",
            "0.44890931922114446 0.44890931922114446\n",
            "0.06964754173379506 0.06964754173379506\n",
            "0.37965608114093363 0.37965608114093363\n",
            "0.38902931642528127 0.38902931642528127\n",
            "0.2912298562898618 0.2912298562898618\n",
            "0.15648781489793714 0.15648781489793714\n",
            "0.07483438922153202 0.07483438922153202\n",
            "1.2890177765690052 1.2890177765690052\n",
            "0.557583017760652 0.557583017760652\n",
            "0.1847002872680264 0.1847002872680264\n",
            "0.09502323369264327 0.09502323369264327\n",
            "0.23955630031169722 0.23955630031169722\n",
            "0.146972937393425 0.146972937393425\n",
            "0.2112203086591483 0.2112203086591483\n",
            "0.38228079290404376 0.38228079290404376\n",
            "0.12506531178027283 0.12506531178027283\n",
            "0.17436438445679975 0.17436438445679975\n",
            "0.10649888113567411 0.10649888113567411\n",
            "0.4858700774813978 0.4858700774813978\n",
            "0.8704472066281336 0.8704472066281336\n",
            "0.19295550165675657 0.19295550165675657\n",
            "0.24000682183707592 0.24000682183707592\n",
            "0.6113796823788644 0.6113796823788644\n",
            "0.12676605649027814 0.12676605649027814\n",
            "0.2517216142027084 0.2517216142027084\n",
            "0.1943897872790991 0.1943897872790991\n",
            "0.6545849388785543 0.6545849388785543\n",
            "0.09344957662395363 0.09344957662395363\n",
            "0.2829952302504097 0.2829952302504097\n",
            "0.39038040522023654 0.39038040522023654\n",
            "0.4152720222672513 0.4152720222672513\n",
            "2.0105135530162106 2.0105135530162106\n",
            "0.1559903856734155 0.1559903856734155\n",
            "0.39946280844461424 0.39946280844461424\n",
            "0.4943044667375321 0.4943044667375321\n",
            "0.6653561057777483 0.6653561057777483\n",
            "0.24949437436331828 0.24949437436331828\n",
            "0.22845437898618123 0.22845437898618123\n",
            "0.7033595168692975 0.7033595168692975\n",
            "0.31512267887988304 0.31512267887988304\n",
            "0.3711057310351891 0.3711057310351891\n",
            "0.14206693056086123 0.14206693056086123\n",
            "0.26546366692687573 0.26546366692687573\n",
            "0.05026800645782122 0.05026800645782122\n",
            "0.386036739303747 0.386036739303747\n",
            "0.14708274552731088 0.14708274552731088\n",
            "0.26278065034270087 0.26278065034270087\n",
            "0.7672290746246346 0.7672290746246346\n",
            "0.22837821074441936 0.22837821074441936\n",
            "0.21937253804865356 0.21937253804865356\n",
            "0.1609329627776486 0.1609329627776486\n",
            "0.23029967466947915 0.23029967466947915\n",
            "0.3447206368616574 0.3447206368616574\n",
            "0.4549790760087253 0.4549790760087253\n",
            "0.1792739163953849 0.1792739163953849\n",
            "0.21546094632357826 0.21546094632357826\n",
            "0.12336931406886682 0.12336931406886682\n",
            "0.27144527443750555 0.27144527443750555\n",
            "0.08809122083374855 0.08809122083374855\n",
            "0.14264508038798832 0.14264508038798832\n",
            "0.32608071965104307 0.32608071965104307\n",
            "0.23243517524664498 0.23243517524664498\n",
            "0.34790311555358094 0.34790311555358094\n",
            "0.30729943055048053 0.30729943055048053\n",
            "0.7386328090397732 0.7386328090397732\n",
            "0.16890961809823168 0.16890961809823168\n",
            "0.29473197342961066 0.29473197342961066\n",
            "0.32579713244087166 0.32579713244087166\n",
            "3.0266914972539642 3.0266914972539642\n",
            "0.21972236697504208 0.21972236697504208\n",
            "0.22744691233584685 0.22744691233584685\n",
            "0.4320656706057888 0.4320656706057888\n",
            "0.12643506417336567 0.12643506417336567\n",
            "0.2649033048279852 0.2649033048279852\n",
            "0.2556410779436841 0.2556410779436841\n",
            "0.176487730987438 0.176487730987438\n",
            "0.2664341091507773 0.2664341091507773\n",
            "0.3916417876361945 0.3916417876361945\n",
            "0.31884151434748426 0.31884151434748426\n",
            "0.313095613159104 0.313095613159104\n",
            "0.23264099386017362 0.23264099386017362\n",
            "0.08314511321688978 0.08314511321688978\n",
            "0.5272500211073833 0.5272500211073833\n",
            "0.1796643813598968 0.1796643813598968\n",
            "0.49029406391177255 0.49029406391177255\n",
            "0.2707992717260718 0.2707992717260718\n",
            "0.3628604864248383 0.3628604864248383\n",
            "0.5263882516304589 0.5263882516304589\n",
            "0.23598744404813313 0.23598744404813313\n",
            "0.6369371768148198 0.6369371768148198\n",
            "0.316097835662758 0.316097835662758\n",
            "0.18810017633315618 0.18810017633315618\n",
            "0.34085703415659047 0.34085703415659047\n",
            "0.43851920979493314 0.43851920979493314\n",
            "0.1149083026930253 0.1149083026930253\n",
            "0.13761170477068385 0.13761170477068385\n",
            "0.21935251198622552 0.21935251198622552\n",
            "0.5038988105124458 0.5038988105124458\n",
            "0.2776550839035787 0.2776550839035787\n",
            "0.3147657132357826 0.3147657132357826\n",
            "0.36532771461710517 0.36532771461710517\n",
            "0.6111603905073523 0.6111603905073523\n",
            "0.2878104385699021 0.2878104385699021\n",
            "0.7013331648202896 0.7013331648202896\n",
            "0.42252180288887414 0.42252180288887414\n",
            "0.13994138894886615 0.13994138894886615\n",
            "0.2841808985793693 0.2841808985793693\n",
            "0.24211195892434006 0.24211195892434006\n",
            "0.1433765074477921 0.1433765074477921\n",
            "0.5044437097229604 0.5044437097229604\n",
            "0.1038590957596997 0.1038590957596997\n",
            "0.1966663569763708 0.1966663569763708\n",
            "0.13492834216383204 0.13492834216383204\n",
            "0.2361441490679533 0.2361441490679533\n",
            "0.17491794504744662 0.17491794504744662\n",
            "0.25724939134611124 0.25724939134611124\n",
            "0.1821069986892661 0.1821069986892661\n",
            "0.13412357992293383 0.13412357992293383\n",
            "0.23436444630835326 0.23436444630835326\n",
            "0.11411410495698246 0.11411410495698246\n",
            "0.1195008778595314 0.1195008778595314\n",
            "0.12867056530416776 0.12867056530416776\n",
            "0.23665009910089468 0.23665009910089468\n",
            "0.3584897658602954 0.3584897658602954\n",
            "0.25478601265612544 0.25478601265612544\n",
            "0.21690732111319647 0.21690732111319647\n",
            "0.11435132512844362 0.11435132512844362\n",
            "0.2647829970684959 0.2647829970684959\n",
            "0.22879962311210028 0.22879962311210028\n",
            "0.30034379083067586 0.30034379083067586\n",
            "0.06624537648824354 0.06624537648824354\n",
            "0.4054810511061653 0.4054810511061653\n",
            "0.3328178244239414 0.3328178244239414\n",
            "0.8412674603042785 0.8412674603042785\n",
            "0.19198536220269732 0.19198536220269732\n",
            "0.23810925510314243 0.23810925510314243\n",
            "0.21321567005215253 0.21321567005215253\n",
            "0.10866940569567167 0.10866940569567167\n",
            "0.4889362709274515 0.4889362709274515\n",
            "0.7594112977788112 0.7594112977788112\n",
            "0.5984813843260032 0.5984813843260032\n",
            "0.11075250546369807 0.11075250546369807\n",
            "0.08684665836385254 0.08684665836385254\n",
            "0.39815185828018423 0.39815185828018423\n",
            "0.09821629851583953 0.09821629851583953\n",
            "0.4078604327913234 0.4078604327913234\n",
            "0.33885146509461644 0.33885146509461644\n",
            "0.1296121146345447 0.1296121146345447\n",
            "0.13928587061381656 0.13928587061381656\n",
            "0.4185465213648242 0.4185465213648242\n",
            "0.23036691120089245 0.23036691120089245\n",
            "1.2977469771458943 1.2977469771458943\n",
            "0.9632305922800957 0.9632305922800957\n",
            "0.17051582292497122 0.17051582292497122\n",
            "0.09019491976426167 0.09019491976426167\n",
            "0.2567010967880791 0.2567010967880791\n",
            "0.9724592765911507 0.9724592765911507\n",
            "0.23250920247309328 0.23250920247309328\n",
            "0.5013756131521836 0.5013756131521836\n",
            "0.24090860018602178 0.24090860018602178\n",
            "0.9106185362963948 0.9106185362963948\n",
            "0.300731682251528 0.300731682251528\n",
            "0.6161781085985251 0.6161781085985251\n",
            "0.1850539656966959 0.1850539656966959\n",
            "0.4195213970042741 0.4195213970042741\n",
            "0.12502595170077066 0.12502595170077066\n",
            "0.47050217233036584 0.47050217233036584\n",
            "1.2863164640357871 1.2863164640357871\n",
            "0.3971723545874302 0.3971723545874302\n",
            "0.2811105528611923 0.2811105528611923\n",
            "0.5447756804189919 0.5447756804189919\n",
            "0.2944819504191027 0.2944819504191027\n",
            "0.17705202909427872 0.17705202909427872\n",
            "0.06493426412568375 0.06493426412568375\n",
            "0.26614628316281336 0.26614628316281336\n",
            "0.28608276897034723 0.28608276897034723\n",
            "0.24893197938120074 0.24893197938120074\n",
            "0.18520234454585216 0.18520234454585216\n",
            "1.4536945533262469 1.4536945533262469\n",
            "0.071465393493528 0.071465393493528\n",
            "0.36319258168903357 0.36319258168903357\n",
            "0.3566319917342103 0.3566319917342103\n",
            "0.1951742423141443 0.1951742423141443\n",
            "0.20751836342346533 0.20751836342346533\n",
            "0.051755963441320094 0.051755963441320094\n",
            "0.6242617606187439 0.6242617606187439\n",
            "0.4078672234863584 0.4078672234863584\n",
            "0.24096400706716714 0.24096400706716714\n",
            "0.22447198237083665 0.22447198237083665\n",
            "0.18090800848724423 0.18090800848724423\n",
            "0.581897944763708 0.581897944763708\n",
            "0.1427633552642506 0.1427633552642506\n",
            "0.1471486304076424 0.1471486304076424\n",
            "0.13667112862908584 0.13667112862908584\n",
            "0.1386180684737355 0.1386180684737355\n",
            "0.16330006065777528 0.16330006065777528\n",
            "0.21440012730174285 0.21440012730174285\n",
            "0.20524588111906503 0.20524588111906503\n",
            "0.35579442221825447 0.35579442221825447\n",
            "0.2944664442778922 0.2944664442778922\n",
            "0.4830837298753211 0.4830837298753211\n",
            "0.11284744569520108 0.11284744569520108\n",
            "0.5243897111541101 0.5243897111541101\n",
            "0.23840785104692622 0.23840785104692622\n",
            "0.2881703886595912 0.2881703886595912\n",
            "0.13378910575283462 0.13378910575283462\n",
            "0.4290916489503056 0.4290916489503056\n",
            "0.07435615884897633 0.07435615884897633\n",
            "0.22852315099322348 0.22852315099322348\n",
            "0.0778865795623782 0.0778865795623782\n",
            "0.1309053527631987 0.1309053527631987\n",
            "0.08847050494051178 0.08847050494051178\n",
            "0.24312089617105145 0.24312089617105145\n",
            "0.09171944161282554 0.09171944161282554\n",
            "0.2449356121002746 0.2449356121002746\n",
            "0.37080905984254586 0.37080905984254586\n",
            "0.1827639443678581 0.1827639443678581\n",
            "0.18034229385006975 0.18034229385006975\n",
            "0.2788120756031867 0.2788120756031867\n",
            "0.15989710064138762 0.15989710064138762\n",
            "0.07351747016592479 0.07351747016592479\n",
            "0.23308792540027903 0.23308792540027903\n",
            "0.3213838727134822 0.3213838727134822\n",
            "0.1469615727111292 0.1469615727111292\n",
            "0.2594567132551599 0.2594567132551599\n",
            "0.09972620090630259 0.09972620090630259\n",
            "0.24846586520894234 0.24846586520894234\n",
            "0.8215754827708389 0.8215754827708389\n",
            "0.417334490433165 0.417334490433165\n",
            "0.046136219958311186 0.046136219958311186\n",
            "0.1812962999968166 0.1812962999968166\n",
            "0.2476551773297015 0.2476551773297015\n",
            "0.4242732831738861 0.4242732831738861\n",
            "0.3471956721905727 0.3471956721905727\n",
            "0.24775496161916466 0.24775496161916466\n",
            "0.23274393560656392 0.23274393560656392\n",
            "0.25119161559371955 0.25119161559371955\n",
            "0.1534171988495438 0.1534171988495438\n",
            "0.6141429762240899 0.6141429762240899\n",
            "0.015371903334931958 0.015371903334931958\n",
            "0.17539415875658826 0.17539415875658826\n",
            "0.18076931827304235 0.18076931827304235\n",
            "1.1684615727976349 1.1684615727976349\n",
            "1.6323900063114536 1.6323900063114536\n",
            "0.702627332884888 0.702627332884888\n",
            "0.262826519973813 0.262826519973813\n",
            "0.7708011532243777 0.7708011532243777\n",
            "0.18993465880779964 0.18993465880779964\n",
            "0.07420410891548189 0.07420410891548189\n",
            "0.3491906226816481 0.3491906226816481\n",
            "0.2080891278290814 0.2080891278290814\n",
            "0.36499086154110194 0.36499086154110194\n",
            "0.4503902962784569 0.4503902962784569\n",
            "0.2447211429198224 0.2447211429198224\n",
            "0.09733718465223337 0.09733718465223337\n",
            "0.133584725296057 0.133584725296057\n",
            "0.16186075770661706 0.16186075770661706\n",
            "0.12385641667912348 0.12385641667912348\n",
            "0.29295890998012447 0.29295890998012447\n",
            "0.08521636170823091 0.08521636170823091\n",
            "0.0908406305190617 0.0908406305190617\n",
            "0.10198027912957304 0.10198027912957304\n",
            "0.3528131124601382 0.3528131124601382\n",
            "0.21306069514571707 0.21306069514571707\n",
            "0.11758901606375675 0.11758901606375675\n",
            "0.2130159284618877 0.2130159284618877\n",
            "0.9142133658871467 0.9142133658871467\n",
            "0.6228132231873948 0.6228132231873948\n",
            "0.44286715774204977 0.44286715774204977\n",
            "1.2468799135220126 1.2468799135220126\n",
            "0.9239000977168039 0.9239000977168039\n",
            "0.17643961220892573 0.17643961220892573\n",
            "0.2507075731215121 0.2507075731215121\n",
            "0.23771178317942246 0.23771178317942246\n",
            "0.7310425421040393 0.7310425421040393\n",
            "0.16209858341776287 0.16209858341776287\n",
            "0.744411301239038 0.744411301239038\n",
            "0.412414567001063 0.412414567001063\n",
            "0.28554626080974843 0.28554626080974843\n",
            "0.6294046091604659 0.6294046091604659\n",
            "0.5653531732355611 0.5653531732355611\n",
            "0.7634657319902117 0.7634657319902117\n",
            "0.5051909024409824 0.5051909024409824\n",
            "0.3023906663497099 0.3023906663497099\n",
            "0.19823967883559218 0.19823967883559218\n",
            "0.17531194593118854 0.17531194593118854\n",
            "0.2333499943252281 0.2333499943252281\n",
            "0.3111418177401674 0.3111418177401674\n",
            "0.11352017865842856 0.11352017865842856\n",
            "0.37668452489702364 0.37668452489702364\n",
            "0.07626239236964634 0.07626239236964634\n",
            "0.09973359714102223 0.09973359714102223\n",
            "0.10172643905641 0.10172643905641\n",
            "0.007857487678781267 0.007857487678781267\n",
            "0.26233973094660734 0.26233973094660734\n",
            "0.19150888897654797 0.19150888897654797\n",
            "0.06730524935432168 0.06730524935432168\n",
            "0.18748019020174506 0.18748019020174506\n",
            "1.3880881347439986 1.3880881347439986\n",
            "0.354803543029996 0.354803543029996\n",
            "0.21045808558109663 0.21045808558109663\n",
            "0.5409970262811143 0.5409970262811143\n",
            "0.6668344011593144 0.6668344011593144\n",
            "0.3321514496274028 0.3321514496274028\n",
            "0.40352052987144565 0.40352052987144565\n",
            "0.0862081383928077 0.0862081383928077\n",
            "0.07328006616991652 0.07328006616991652\n",
            "0.38424948892450617 0.38424948892450617\n",
            "0.18850640695588627 0.18850640695588627\n",
            "2.018793356641421 2.018793356641421\n",
            "0.0881656697753344 0.0881656697753344\n",
            "0.26902865206174154 0.26902865206174154\n",
            "0.21098263433292364 0.21098263433292364\n",
            "0.22460176250110728 0.22460176250110728\n",
            "1.3721159874933564 1.3721159874933564\n",
            "0.7175471386692799 0.7175471386692799\n",
            "1.151937951905616 1.151937951905616\n",
            "0.26347189551914474 0.26347189551914474\n",
            "0.07033883016307357 0.07033883016307357\n",
            "0.1834377153991164 0.1834377153991164\n",
            "0.27860301302706175 0.27860301302706175\n",
            "0.4675576923609266 0.4675576923609266\n",
            "0.42289883784823723 0.42289883784823723\n",
            "0.06607865303060502 0.06607865303060502\n",
            "0.017754569532218864 0.017754569532218864\n",
            "0.08617280623352933 0.08617280623352933\n",
            "0.29576740303752547 0.29576740303752547\n",
            "0.14234138060971963 0.14234138060971963\n",
            "0.07118110342479404 0.07118110342479404\n",
            "0.9971212643391797 0.9971212643391797\n",
            "0.40585068983080874 0.40585068983080874\n",
            "0.3343075169274294 0.3343075169274294\n",
            "0.36740328839190806 0.36740328839190806\n",
            "0.31040388112875367 0.31040388112875367\n",
            "0.07970017091790127 0.07970017091790127\n",
            "0.16721180376777173 0.16721180376777173\n",
            "0.14297793257678934 0.14297793257678934\n",
            "0.020297967317898645 0.020297967317898645\n",
            "0.30662717336843387 0.30662717336843387\n",
            "0.166198433105512 0.166198433105512\n",
            "0.298902130600031 0.298902130600031\n",
            "0.034039194183254996 0.034039194183254996\n",
            "0.11125649830587298 0.11125649830587298\n",
            "0.08188601238795785 0.08188601238795785\n",
            "0.16924708752712816 0.16924708752712816\n",
            "0.4650256281695677 0.4650256281695677\n",
            "0.1410290896074165 0.1410290896074165\n",
            "0.11804702032952431 0.11804702032952431\n",
            "0.33110403898429885 0.33110403898429885\n",
            "0.33721598891204935 0.33721598891204935\n",
            "0.38430766398706706 0.38430766398706706\n",
            "0.11764697486214457 0.11764697486214457\n",
            "0.11936977851780495 0.11936977851780495\n",
            "0.17307111388851978 0.17307111388851978\n",
            "0.17313511727054545 0.17313511727054545\n",
            "0.5995360181924883 0.5995360181924883\n",
            "0.8430245634577908 0.8430245634577908\n",
            "0.03838796663753156 0.03838796663753156\n",
            "0.1521404833037138 0.1521404833037138\n",
            "0.22786415080498715 0.22786415080498715\n",
            "0.20315633667868058 0.20315633667868058\n",
            "0.2935947050225884 0.2935947050225884\n",
            "0.2764153495313469 0.2764153495313469\n",
            "0.4348121390983479 0.4348121390983479\n",
            "0.4946726781186332 0.4946726781186332\n",
            "0.3787991559814864 0.3787991559814864\n",
            "0.3885653000155018 0.3885653000155018\n",
            "0.2166364286099854 0.2166364286099854\n",
            "0.07778817936362277 0.07778817936362277\n",
            "0.15713222806769864 0.15713222806769864\n",
            "0.3239171696106276 0.3239171696106276\n",
            "0.13702041689504163 0.13702041689504163\n",
            "0.2702208083158938 0.2702208083158938\n",
            "0.35206998550857027 0.35206998550857027\n",
            "0.3203504111095425 0.3203504111095425\n",
            "0.4756013355091239 0.4756013355091239\n",
            "0.7087936299993356 0.7087936299993356\n",
            "0.25282276649282487 0.25282276649282487\n",
            "0.25331636784148287 0.25331636784148287\n",
            "0.1407351541565628 0.1407351541565628\n",
            "0.32734419982948004 0.32734419982948004\n",
            "0.35854510786218885 0.35854510786218885\n",
            "0.08003833239215165 0.08003833239215165\n",
            "0.11977041871166069 0.11977041871166069\n",
            "0.10806331453738152 0.10806331453738152\n",
            "0.35045215648252726 0.35045215648252726\n",
            "0.07350657045160111 0.07350657045160111\n",
            "0.12559194748137015 0.12559194748137015\n",
            "0.19864850462839934 0.19864850462839934\n",
            "0.19657349314044645 0.19657349314044645\n",
            "0.14112565156070067 0.14112565156070067\n",
            "0.3218262410795354 0.3218262410795354\n",
            "0.35755712661384975 0.35755712661384975\n",
            "0.6802166551787138 0.6802166551787138\n",
            "0.2946154070403158 0.2946154070403158\n",
            "0.3178720885651962 0.3178720885651962\n",
            "0.12536294534848635 0.12536294534848635\n",
            "0.0846705379683763 0.0846705379683763\n",
            "0.32816570091737535 0.32816570091737535\n",
            "0.0712619700057163 0.0712619700057163\n",
            "0.20039051254263 0.20039051254263\n",
            "0.10335060462272455 0.10335060462272455\n",
            "0.289670505096222 0.289670505096222\n",
            "0.19934757856790902 0.19934757856790902\n",
            "0.3672048011338471 0.3672048011338471\n",
            "0.359334320709042 0.359334320709042\n",
            "0.30823864422778813 0.30823864422778813\n",
            "0.25723401496340464 0.25723401496340464\n",
            "0.16475800558065373 0.16475800558065373\n",
            "0.14463843052418282 0.14463843052418282\n",
            "0.18057801098552795 0.18057801098552795\n",
            "1.2416401786307467 1.2416401786307467\n",
            "0.19458213263464436 0.19458213263464436\n",
            "0.43264145234022056 0.43264145234022056\n",
            "0.09655468680795465 0.09655468680795465\n",
            "0.31289014056825226 0.31289014056825226\n",
            "0.5251916619607583 0.5251916619607583\n",
            "0.1536584415346244 0.1536584415346244\n",
            "0.4862190846039286 0.4862190846039286\n",
            "0.06393921644548897 0.06393921644548897\n",
            "0.25913140868599965 0.25913140868599965\n",
            "0.28254222168704046 0.28254222168704046\n",
            "1.0510246769532288 1.0510246769532288\n",
            "0.07592918875156403 0.07592918875156403\n",
            "0.03986341273861724 0.03986341273861724\n",
            "0.18399007572360263 0.18399007572360263\n",
            "0.34489347518879 0.34489347518879\n",
            "0.989716552063956 0.989716552063956\n",
            "0.6195208174162902 0.6195208174162902\n",
            "0.6324504737742492 0.6324504737742492\n",
            "0.6617120544612012 0.6617120544612012\n",
            "0.18702019630558508 0.18702019630558508\n",
            "0.3374286414734476 0.3374286414734476\n",
            "0.2685064822158185 0.2685064822158185\n",
            "0.16183854737604084 0.16183854737604084\n",
            "0.3270474637575848 0.3270474637575848\n",
            "0.4166857844195677 0.4166857844195677\n",
            "0.1294087938722152 0.1294087938722152\n",
            "0.15937314661603663 0.15937314661603663\n",
            "0.3168969750351559 0.3168969750351559\n",
            "0.3036941986530029 0.3036941986530029\n",
            "0.1947438982361148 0.1947438982361148\n",
            "0.17421580015667906 0.17421580015667906\n",
            "0.19903836405322659 0.19903836405322659\n",
            "0.19694148825737443 0.19694148825737443\n",
            "0.4745124886504562 0.4745124886504562\n",
            "0.2457069399000133 0.2457069399000133\n",
            "0.2503531810210714 0.2503531810210714\n",
            "0.20837018474842767 0.20837018474842767\n",
            "0.21771149944082735 0.21771149944082735\n",
            "0.06325574596606763 0.06325574596606763\n",
            "0.19703820159557978 0.19703820159557978\n",
            "1.341330436431482 1.341330436431482\n",
            "0.18001757319417686 0.18001757319417686\n",
            "0.10081811871622819 0.10081811871622819\n",
            "0.15611510522203584 0.15611510522203584\n",
            "0.3221548544905439 0.3221548544905439\n",
            "0.38545222049672245 0.38545222049672245\n",
            "0.957832984542475 0.957832984542475\n",
            "0.31857656910903315 0.31857656910903315\n",
            "0.1251141442305563 0.1251141442305563\n",
            "0.4686630618024183 0.4686630618024183\n",
            "0.04704311295495062 0.04704311295495062\n",
            "1.0876506582735406 1.0876506582735406\n",
            "0.07478358876727345 0.07478358876727345\n",
            "0.2600494284743445 0.2600494284743445\n",
            "0.11172665661816812 0.11172665661816812\n",
            "0.4770224506433254 0.4770224506433254\n",
            "0.16176189253988948 0.16176189253988948\n",
            "0.6853260260264417 0.6853260260264417\n",
            "0.015282113153567633 0.015282113153567633\n",
            "0.08799195017169645 0.08799195017169645\n",
            "0.15783714113988173 0.15783714113988173\n",
            "0.05897888405264527 0.05897888405264527\n",
            "0.34040201433641154 0.34040201433641154\n",
            "0.28323653781474223 0.28323653781474223\n",
            "0.056369856848688435 0.056369856848688435\n",
            "0.615475293288821 0.615475293288821\n",
            "0.42116266906667993 0.42116266906667993\n",
            "0.010500675836354112 0.010500675836354112\n",
            "0.2112901836134733 0.2112901836134733\n",
            "0.31371456122248426 0.31371456122248426\n",
            "0.10308272900472805 0.10308272900472805\n",
            "0.3959902978701612 0.3959902978701612\n",
            "0.30628846042054214 0.30628846042054214\n",
            "0.3118308353956285 0.3118308353956285\n",
            "0.24195196668908894 0.24195196668908894\n",
            "0.05532917742797192 0.05532917742797192\n",
            "0.34631091383204887 0.34631091383204887\n",
            "0.7855536570444681 0.7855536570444681\n",
            "0.05600517598021304 0.05600517598021304\n",
            "0.12549728865280915 0.12549728865280915\n",
            "0.09777335704972762 0.09777335704972762\n",
            "0.10260973763176544 0.10260973763176544\n",
            "0.22237886957159625 0.22237886957159625\n",
            "0.7555621415205067 0.7555621415205067\n",
            "0.10740021614306515 0.10740021614306515\n",
            "0.26047992393729513 0.26047992393729513\n",
            "0.16165616098566635 0.16165616098566635\n",
            "0.453123529403623 0.453123529403623\n",
            "0.28374702939531843 0.28374702939531843\n",
            "0.8011813387202144 0.8011813387202144\n",
            "0.6637830866883692 0.6637830866883692\n",
            "0.7070998489957038 0.7070998489957038\n",
            "0.1968185204485561 0.1968185204485561\n",
            "0.360702126724577 0.360702126724577\n",
            "0.46065280984254586 0.46065280984254586\n",
            "0.13906095587380415 0.13906095587380415\n",
            "0.12593473700892463 0.12593473700892463\n",
            "0.4515987804776774 0.4515987804776774\n",
            "0.04799299386259578 0.04799299386259578\n",
            "0.14219041740369498 0.14219041740369498\n",
            "0.07339585941479261 0.07339585941479261\n",
            "0.6252793268059615 0.6252793268059615\n",
            "0.43691859539706795 0.43691859539706795\n",
            "0.2346490932129728 0.2346490932129728\n",
            "0.14166480895741984 0.14166480895741984\n",
            "0.17658057319694503 0.17658057319694503\n",
            "0.1799788943468199 0.1799788943468199\n",
            "0.18660297946286208 0.18660297946286208\n",
            "0.11482457601841395 0.11482457601841395\n",
            "0.7856479482239348 0.7856479482239348\n",
            "0.47922652858977766 0.47922652858977766\n",
            "0.12413582999075427 0.12413582999075427\n",
            "1.5684138735716184 1.5684138735716184\n",
            "0.5726238017234697 0.5726238017234697\n",
            "0.04963193567853663 0.04963193567853663\n",
            "1.033463853087076 1.033463853087076\n",
            "0.905638145401497 0.905638145401497\n",
            "0.47749728026175925 0.47749728026175925\n",
            "0.36835376943263354 0.36835376943263354\n",
            "0.43623390302506865 0.43623390302506865\n",
            "0.36127786520617416 0.36127786520617416\n",
            "1.0793077055097884 1.0793077055097884\n",
            "0.3182466148601515 0.3182466148601515\n",
            "0.4383787678409292 0.4383787678409292\n",
            "0.2999510334659292 0.2999510334659292\n",
            "0.3679699870310701 0.3679699870310701\n",
            "0.2113291327910466 0.2113291327910466\n",
            "0.2576522915005758 0.2576522915005758\n",
            "0.2519694961979028 0.2519694961979028\n",
            "0.31774816919401627 0.31774816919401627\n",
            "0.3638761062344982 0.3638761062344982\n",
            "0.439447804901342 0.439447804901342\n",
            "0.6101267342656569 0.6101267342656569\n",
            "0.12072625229067012 0.12072625229067012\n",
            "0.4537355570134644 0.4537355570134644\n",
            "0.13552851849698822 0.13552851849698822\n",
            "0.21123897225728586 0.21123897225728586\n",
            "0.42769453913931704 0.42769453913931704\n",
            "0.7466875249136328 0.7466875249136328\n",
            "0.12815083924340065 0.12815083924340065\n",
            "0.5361684960885597 0.5361684960885597\n",
            "0.21749586243384048 0.21749586243384048\n",
            "0.2999509037074254 0.2999509037074254\n",
            "0.23132956791456286 0.23132956791456286\n",
            "0.9015465137523253 0.9015465137523253\n",
            "0.2516588759660953 0.2516588759660953\n",
            "0.23130536795359422 0.23130536795359422\n",
            "0.2349178014480357 0.2349178014480357\n",
            "0.3044003876838072 0.3044003876838072\n",
            "0.3503678134550226 0.3503678134550226\n",
            "0.12242332050973292 0.12242332050973292\n",
            "0.24016127770949597 0.24016127770949597\n",
            "0.2322190624584773 0.2322190624584773\n",
            "0.08774729591928537 0.08774729591928537\n",
            "0.5628825280693596 0.5628825280693596\n",
            "0.18087122195140182 0.18087122195140182\n",
            "0.46682866583344407 0.46682866583344407\n",
            "0.22771393371035964 0.22771393371035964\n",
            "0.12894535056249445 0.12894535056249445\n",
            "0.11065861437295155 0.11065861437295155\n",
            "2.576693850208167 2.576693850208167\n",
            "0.06778035470957625 0.06778035470957625\n",
            "0.1127823826187273 0.1127823826187273\n",
            "0.21712951092462796 0.21712951092462796\n",
            "0.10508583265512889 0.10508583265512889\n",
            "0.19400898932312427 0.19400898932312427\n",
            "0.23851124694807999 0.23851124694807999\n",
            "0.10709226677379528 0.10709226677379528\n",
            "0.08586103980160444 0.08586103980160444\n",
            "0.6184436488229693 0.6184436488229693\n",
            "0.2427152062087541 0.2427152062087541\n",
            "2.057157409868013 2.057157409868013\n",
            "0.6782881842944459 0.6782881842944459\n",
            "0.08719185383033262 0.08719185383033262\n",
            "0.11116063921115134 0.11116063921115134\n",
            "0.32425780730965986 0.32425780730965986\n",
            "0.1824562869552219 0.1824562869552219\n",
            "0.18730250755713526 0.18730250755713526\n",
            "0.6832492411722695 0.6832492411722695\n",
            "0.9091645490078838 0.9091645490078838\n",
            "0.17387421089528524 0.17387421089528524\n",
            "0.20011637607682256 0.20011637607682256\n",
            "0.32541672376040837 0.32541672376040837\n",
            "0.10104081674846643 0.10104081674846643\n",
            "0.09520626887553703 0.09520626887553703\n",
            "0.24817302189216273 0.24817302189216273\n",
            "0.3653972651751705 0.3653972651751705\n",
            "0.2327872316940163 0.2327872316940163\n",
            "0.15149443733944548 0.15149443733944548\n",
            "0.26117627294822393 0.26117627294822393\n",
            "0.17023983740048387 0.17023983740048387\n",
            "0.9399141137113561 0.9399141137113561\n",
            "0.08581247227493301 0.08581247227493301\n",
            "0.4083603923066702 0.4083603923066702\n",
            "0.3193332990770883 0.3193332990770883\n",
            "0.6094389709423996 0.6094389709423996\n",
            "1.0308733543161486 1.0308733543161486\n",
            "0.15111262294185712 0.15111262294185712\n",
            "0.21033048971897422 0.21033048971897422\n",
            "0.19870207326407344 0.19870207326407344\n",
            "0.376446288283949 0.376446288283949\n",
            "0.06237685917984321 0.06237685917984321\n",
            "0.08216287918895053 0.08216287918895053\n",
            "0.09143355118921073 0.09143355118921073\n",
            "0.25565429168465986 0.25565429168465986\n",
            "0.34909756420796795 0.34909756420796795\n",
            "0.4881478582580388 0.4881478582580388\n",
            "0.18097665073578262 0.18097665073578262\n",
            "0.11015759516315661 0.11015759516315661\n",
            "0.19216866771580743 0.19216866771580743\n",
            "0.060520458331257194 0.060520458331257194\n",
            "0.10164439924234875 0.10164439924234875\n",
            "0.13949494400315018 0.13949494400315018\n",
            "0.013811508666656978 0.013811508666656978\n",
            "0.19884407232012358 0.19884407232012358\n",
            "0.14907150004982728 0.14907150004982728\n",
            "0.12145520312569205 0.12145520312569205\n",
            "0.2861679121752923 0.2861679121752923\n",
            "0.22727448491064312 0.22727448491064312\n",
            "0.19292044523429888 0.19292044523429888\n",
            "0.3178889139178625 0.3178889139178625\n",
            "0.15186558991330057 0.15186558991330057\n",
            "0.18591867636637435 0.18591867636637435\n",
            "0.015630987814292396 0.015630987814292396\n",
            "0.2986860178118633 0.2986860178118633\n",
            "0.35282005454009435 0.35282005454009435\n",
            "0.2388048255630481 0.2388048255630481\n",
            "0.348808267623627 0.348808267623627\n",
            "0.14749337712596333 0.14749337712596333\n",
            "0.5313147494934228 0.5313147494934228\n",
            "0.16951714741327287 0.16951714741327287\n",
            "0.3767620339766587 0.3767620339766587\n",
            "1.010225835160333 1.010225835160333\n",
            "0.32066600541733103 0.32066600541733103\n",
            "0.331163490005481 0.331163490005481\n",
            "0.1943875813845336 0.1943875813845336\n",
            "0.29259565104858715 0.29259565104858715\n",
            "0.20564045510286563 0.20564045510286563\n",
            "0.2850296273266565 0.2850296273266565\n",
            "0.2058855256638099 0.2058855256638099\n",
            "0.3028909718877336 0.3028909718877336\n",
            "0.7488781944813535 0.7488781944813535\n",
            "0.37028890125343256 0.37028890125343256\n",
            "0.18412640865831784 0.18412640865831784\n",
            "1.0552613786097085 1.0552613786097085\n",
            "0.10253442363348725 0.10253442363348725\n",
            "0.12875551387135709 0.12875551387135709\n",
            "0.15570958827107692 0.15570958827107692\n",
            "0.15574357418587784 0.15574357418587784\n",
            "0.13363118965364515 0.13363118965364515\n",
            "0.15831203563756754 0.15831203563756754\n",
            "0.15816887956819137 0.15816887956819137\n",
            "0.12746050237648374 0.12746050237648374\n",
            "0.09878028303962928 0.09878028303962928\n",
            "0.29309816248117637 0.29309816248117637\n",
            "1.1101298484697493 1.1101298484697493\n",
            "0.15036548428987842 0.15036548428987842\n",
            "0.19137199375498273 0.19137199375498273\n",
            "0.1558594593430275 0.1558594593430275\n",
            "0.17023339272812582 0.17023339272812582\n",
            "0.4290210603242094 0.4290210603242094\n",
            "0.36502758319769246 0.36502758319769246\n",
            "0.20461475738273985 0.20461475738273985\n",
            "0.30985405109509256 0.30985405109509256\n",
            "0.6775145640944725 0.6775145640944725\n",
            "0.15683057198586567 0.15683057198586567\n",
            "0.109617075302147 0.109617075302147\n",
            "0.596720085647533 0.596720085647533\n",
            "0.18291217183209318 0.18291217183209318\n",
            "0.168853032577343 0.168853032577343\n",
            "0.30570333607383293 0.30570333607383293\n",
            "0.09211489146652715 0.09211489146652715\n",
            "0.9101530492902383 0.9101530492902383\n",
            "0.2795135500750177 0.2795135500750177\n",
            "0.47653689432190627 0.47653689432190627\n",
            "0.24678350295364956 0.24678350295364956\n",
            "0.34836135770993887 0.34836135770993887\n",
            "0.2446016569641908 0.2446016569641908\n",
            "0.168431090362438 0.168431090362438\n",
            "0.13706100968033041 0.13706100968033041\n",
            "0.20118898149609132 0.20118898149609132\n",
            "0.40934967114004783 0.40934967114004783\n",
            "0.21708424683320046 0.21708424683320046\n",
            "0.3592425381939831 0.3592425381939831\n",
            "0.29689364197172025 0.29689364197172025\n",
            "0.8485190575449553 0.8485190575449553\n",
            "0.13133262588997033 0.13133262588997033\n",
            "0.16771133075477235 0.16771133075477235\n",
            "0.2203674397505315 0.2203674397505315\n",
            "0.42171111500963326 0.42171111500963326\n",
            "0.16468459470709873 0.16468459470709873\n",
            "0.26817272171749046 0.26817272171749046\n",
            "0.21219114015856144 0.21219114015856144\n",
            "0.1383466785629263 0.1383466785629263\n",
            "0.19232971964550669 0.19232971964550669\n",
            "0.15606205562037714 0.15606205562037714\n",
            "0.13804161632036718 0.13804161632036718\n",
            "0.39983980015114273 0.39983980015114273\n",
            "0.147400794433464 0.147400794433464\n",
            "0.4481445225994331 0.4481445225994331\n",
            "0.6257179105489857 0.6257179105489857\n",
            "0.1355747557771946 0.1355747557771946\n",
            "0.15549060998261582 0.15549060998261582\n",
            "0.07062933242017949 0.07062933242017949\n",
            "0.05757654064866795 0.05757654064866795\n",
            "0.1396750920593332 0.1396750920593332\n",
            "0.5264963837170032 0.5264963837170032\n",
            "0.14647109637977235 0.14647109637977235\n",
            "0.23189602866313447 0.23189602866313447\n",
            "0.1220841966599123 0.1220841966599123\n",
            "0.1868143128128045 0.1868143128128045\n",
            "0.18036970533400876 0.18036970533400876\n",
            "0.2648643340239946 0.2648643340239946\n",
            "0.04352104003862997 0.04352104003862997\n",
            "0.18508895723990168 0.18508895723990168\n",
            "0.2627433663992603 0.2627433663992603\n",
            "0.08049322786043106 0.08049322786043106\n",
            "0.7229786566292409 0.7229786566292409\n",
            "0.28279228795038314 0.28279228795038314\n",
            "0.40166372893413943 0.40166372893413943\n",
            "0.5759442785842412 0.5759442785842412\n",
            "0.16487394480384668 0.16487394480384668\n",
            "0.10145324333975551 0.10145324333975551\n",
            "0.230039141220159 0.230039141220159\n",
            "0.6375490746661573 0.6375490746661573\n",
            "0.07429586439751916 0.07429586439751916\n",
            "0.18703909779431305 0.18703909779431305\n",
            "0.5790121156380105 0.5790121156380105\n",
            "0.1404278103269776 0.1404278103269776\n",
            "0.2595511341931305 0.2595511341931305\n",
            "0.1295860980545221 0.1295860980545221\n",
            "0.13064178080224664 0.13064178080224664\n",
            "0.7985388500420764 0.7985388500420764\n",
            "0.04803739830393525 0.04803739830393525\n",
            "0.1469191092407432 0.1469191092407432\n",
            "0.9048611514804235 0.9048611514804235\n",
            "0.1996220178035588 0.1996220178035588\n",
            "0.4965959586627469 0.4965959586627469\n",
            "0.6271040341399814 0.6271040341399814\n",
            "0.3560235108568075 0.3560235108568075\n",
            "0.3906746975069758 0.3906746975069758\n",
            "0.03531932940632197 0.03531932940632197\n",
            "0.33083859633824964 0.33083859633824964\n",
            "0.2622953751647068 0.2622953751647068\n",
            "0.23617728073927052 0.23617728073927052\n",
            "0.29837234825521525 0.29837234825521525\n",
            "0.6065326832259279 0.6065326832259279\n",
            "0.26030901036130305 0.26030901036130305\n",
            "0.39070151426443883 0.39070151426443883\n",
            "0.8755925638342634 0.8755925638342634\n",
            "0.4218347748638055 0.4218347748638055\n",
            "0.458381690002436 0.458381690002436\n",
            "0.5879797258393126 0.5879797258393126\n",
            "0.15354563814194128 0.15354563814194128\n",
            "0.582505733595757 0.582505733595757\n",
            "0.11574233628975109 0.11574233628975109\n",
            "0.09647811847747254 0.09647811847747254\n",
            "0.4186730791589158 0.4186730791589158\n",
            "0.6290347541716494 0.6290347541716494\n",
            "0.3035515291780162 0.3035515291780162\n",
            "0.2643052695101426 0.2643052695101426\n",
            "0.3239225978413721 0.3239225978413721\n",
            "0.13858062233216517 0.13858062233216517\n",
            "0.31063543517887987 0.31063543517887987\n",
            "0.06500191155902593 0.06500191155902593\n",
            "0.6912150724709895 0.6912150724709895\n",
            "0.1815853695037758 0.1815853695037758\n",
            "0.6302697523584906 0.6302697523584906\n",
            "0.3809105431033528 0.3809105431033528\n",
            "0.22418303180917265 0.22418303180917265\n",
            "0.3921088317443972 0.3921088317443972\n",
            "0.37370423158052085 0.37370423158052085\n",
            "0.31633479631721145 0.31633479631721145\n",
            "0.5233361153556559 0.5233361153556559\n",
            "0.2916129250196541 0.2916129250196541\n",
            "0.3397409380121136 0.3397409380121136\n",
            "0.16155108903717114 0.16155108903717114\n",
            "0.1885819696579635 0.1885819696579635\n",
            "2.050834883514926 2.050834883514926\n",
            "0.5039375650522633 0.5039375650522633\n",
            "0.30265956922252857 0.30265956922252857\n",
            "0.19159472422684692 0.19159472422684692\n",
            "0.49938719383913543 0.49938719383913543\n",
            "0.1355017017395252 0.1355017017395252\n",
            "0.28766638500420766 0.28766638500420766\n",
            "0.3842296791262512 0.3842296791262512\n",
            "0.6010842966604659 0.6010842966604659\n",
            "0.19841608552158074 0.19841608552158074\n",
            "0.09842695063363673 0.09842695063363673\n",
            "0.23243026604991585 0.23243026604991585\n",
            "0.5566042926189211 0.5566042926189211\n",
            "0.432197029464523 0.432197029464523\n",
            "0.19640361763248515 0.19640361763248515\n",
            "0.08037933233367382 0.08037933233367382\n",
            "0.23870361393004252 0.23870361393004252\n",
            "0.18378029947570643 0.18378029947570643\n",
            "0.44464281636161307 0.44464281636161307\n",
            "0.4250780886676189 0.4250780886676189\n",
            "0.14920177758769598 0.14920177758769598\n",
            "0.20310103792962175 0.20310103792962175\n",
            "0.1531288646407731 0.1531288646407731\n",
            "0.28692788610594383 0.28692788610594383\n",
            "0.18688550697858536 0.18688550697858536\n",
            "0.3286449423249402 0.3286449423249402\n",
            "0.1431044795576723 0.1431044795576723\n",
            "0.4253846647593897 0.4253846647593897\n",
            "0.21716577842645496 0.21716577842645496\n",
            "0.18212172627945344 0.18212172627945344\n",
            "0.758665272887324 0.758665272887324\n",
            "0.14273625736336257 0.14273625736336257\n",
            "0.17833345919908208 0.17833345919908208\n",
            "0.23067324940207282 0.23067324940207282\n",
            "0.4084795538660422 0.4084795538660422\n",
            "0.3439493739411706 0.3439493739411706\n",
            "0.1705211646500465 0.1705211646500465\n",
            "0.3456647381092767 0.3456647381092767\n",
            "0.34940055031446543 0.34940055031446543\n",
            "0.12527648293208543 0.12527648293208543\n",
            "0.2529422740748738 0.2529422740748738\n",
            "0.3234534559706905 0.3234534559706905\n",
            "0.12815781376298277 0.12815781376298277\n",
            "0.2761754260577221 0.2761754260577221\n",
            "0.20840011570998318 0.20840011570998318\n",
            "0.22380859201988662 0.22380859201988662\n",
            "0.2585627636692798 0.2585627636692798\n",
            "0.4269294397477633 0.4269294397477633\n",
            "0.13893074321518736 0.13893074321518736\n",
            "0.2545780314008659 0.2545780314008659\n",
            "0.1997009326003189 0.1997009326003189\n",
            "0.19066346907110904 0.19066346907110904\n",
            "0.4827720499490655 0.4827720499490655\n",
            "0.19773548054245282 0.19773548054245282\n",
            "0.18672194638447825 0.18672194638447825\n",
            "0.1934883982056648 0.1934883982056648\n",
            "0.4218051034192577 0.4218051034192577\n",
            "0.3059513694539485 0.3059513694539485\n",
            "0.4011188297236248 0.4011188297236248\n",
            "0.38004414557312427 0.38004414557312427\n",
            "0.2842837105672557 0.2842837105672557\n",
            "0.9458801502015236 0.9458801502015236\n",
            "0.20718103456628134 0.20718103456628134\n",
            "0.21338833536794669 0.21338833536794669\n",
            "0.834826853712685 0.834826853712685\n",
            "0.2880270703920852 0.2880270703920852\n",
            "0.35727611294733813 0.35727611294733813\n",
            "0.6220916794003012 0.6220916794003012\n",
            "0.5689204507706617 0.5689204507706617\n",
            "0.5890584515346797 0.5890584515346797\n",
            "0.28696962509135 0.28696962509135\n",
            "0.36573662691558156 0.36573662691558156\n",
            "0.23558244613118964 0.23558244613118964\n",
            "0.27043495310008636 0.27043495310008636\n",
            "0.10676306944951944 0.10676306944951944\n",
            "0.08117342734423443 0.08117342734423443\n",
            "0.3695593556919346 0.3695593556919346\n",
            "0.10631641905283905 0.10631641905283905\n",
            "0.08959656545676377 0.08959656545676377\n",
            "0.5151044953882098 0.5151044953882098\n",
            "0.877295773955842 0.877295773955842\n",
            "0.5398794162874259 0.5398794162874259\n",
            "0.1822627305203074 0.1822627305203074\n",
            "0.16682590197731198 0.16682590197731198\n",
            "0.24973652535792587 0.24973652535792587\n",
            "0.05362151226442776 0.05362151226442776\n",
            "0.21392540581539551 0.21392540581539551\n",
            "0.16456310830786605 0.16456310830786605\n",
            "0.4028351887069271 0.4028351887069271\n",
            "0.6542475235157011 0.6542475235157011\n",
            "0.11813432617620029 0.11813432617620029\n",
            "0.5771097694658517 0.5771097694658517\n",
            "0.3672827427418283 0.3672827427418283\n",
            "0.2339845566619054 0.2339845566619054\n",
            "0.16755704789369077 0.16755704789369077\n",
            "0.14909015283475618 0.14909015283475618\n",
            "0.1829611772937151 0.1829611772937151\n",
            "0.33122004308674374 0.33122004308674374\n",
            "0.3977472712651696 0.3977472712651696\n",
            "0.9285945008692089 0.9285945008692089\n",
            "0.0876978254896913 0.0876978254896913\n",
            "0.5872195572709054 0.5872195572709054\n",
            "0.14382753719397753 0.14382753719397753\n",
            "0.12408409960055142 0.12408409960055142\n",
            "0.1857401935443241 0.1857401935443241\n",
            "0.23847298981586057 0.23847298981586057\n",
            "0.09648435769886615 0.09648435769886615\n",
            "0.3387898946845381 0.3387898946845381\n",
            "0.7969340833720878 0.7969340833720878\n",
            "0.12254488260142617 0.12254488260142617\n",
            "0.3392558790982926 0.3392558790982926\n",
            "1.6225729969439278 1.6225729969439278\n",
            "0.18696074528440296 0.18696074528440296\n",
            "0.36443411105390205 0.36443411105390205\n",
            "0.5371206207370006 0.5371206207370006\n",
            "0.14503197725316128 0.14503197725316128\n",
            "0.6399885777914341 0.6399885777914341\n",
            "0.15055887852666314 0.15055887852666314\n",
            "0.38969432875752946 0.38969432875752946\n",
            "0.2511983197830853 0.2511983197830853\n",
            "0.38243914153157943 0.38243914153157943\n",
            "0.25589254992415184 0.25589254992415184\n",
            "0.28093036155217466 0.28093036155217466\n",
            "0.025872464280944116 0.025872464280944116\n",
            "1.172492390961334 1.172492390961334\n",
            "0.4346786175978829 0.4346786175978829\n",
            "0.07255116399433353 0.07255116399433353\n",
            "0.2655065088595646 0.2655065088595646\n",
            "0.7037681696507663 0.7037681696507663\n",
            "0.5424661088089069 0.5424661088089069\n",
            "0.5410561961588715 0.5410561961588715\n",
            "0.25152585187322835 0.25152585187322835\n",
            "0.5247856043493666 0.5247856043493666\n",
            "0.14375483999219374 0.14375483999219374\n",
            "0.3081233105442798 0.3081233105442798\n",
            "0.23597660921306138 0.23597660921306138\n",
            "0.22938660733069802 0.22938660733069802\n",
            "0.03773839016063757 0.03773839016063757\n",
            "0.42888849038610594 0.42888849038610594\n",
            "0.329065013854748 0.329065013854748\n",
            "0.723738392669302 0.723738392669302\n",
            "1.5167343487022766 1.5167343487022766\n",
            "0.16595614153919191 0.16595614153919191\n",
            "0.36794200244707237 0.36794200244707237\n",
            "0.07174533665238285 0.07174533665238285\n",
            "0.09627785785319226 0.09627785785319226\n",
            "1.1640807526962087 1.1640807526962087\n",
            "0.06630703881059549 0.06630703881059549\n",
            "0.2064231583981088 0.2064231583981088\n",
            "0.2568848997087873 0.2568848997087873\n",
            "0.3934129912137922 0.3934129912137922\n",
            "0.26203696110428293 0.26203696110428293\n",
            "0.06905239894926754 0.06905239894926754\n",
            "1.8567279265213925 1.8567279265213925\n",
            "0.8068393285222341 0.8068393285222341\n",
            "0.16573129167843142 0.16573129167843142\n",
            "0.23215011744009656 0.23215011744009656\n",
            "0.12915609999916955 0.12915609999916955\n",
            "0.18571910778744796 0.18571910778744796\n",
            "0.5803057646685933 0.5803057646685933\n",
            "0.3917463729903003 0.3917463729903003\n",
            "0.08593682958106343 0.08593682958106343\n",
            "0.26290768391797326 0.26290768391797326\n",
            "0.9647345798454248 0.9647345798454248\n",
            "0.13697318479963902 0.13697318479963902\n",
            "0.30155763838138894 0.30155763838138894\n",
            "0.4072604294695057 0.4072604294695057\n",
            "0.22663278585625388 0.22663278585625388\n",
            "0.034352463651182844 0.034352463651182844\n",
            "0.1999535940337386 0.1999535940337386\n",
            "0.09428352371501018 0.09428352371501018\n",
            "0.14888385844004673 0.14888385844004673\n",
            "0.16998409420259766 0.16998409420259766\n",
            "0.28490378320433607 0.28490378320433607\n",
            "0.3733959253753654 0.3733959253753654\n",
            "0.4182602741053238 0.4182602741053238\n",
            "0.2943671141431925 0.2943671141431925\n",
            "1.5582716028877668 1.5582716028877668\n",
            "0.2067910021301156 0.2067910021301156\n",
            "0.2906073182412083 0.2906073182412083\n",
            "0.3358854884663721 0.3358854884663721\n",
            "0.9130978752823545 0.9130978752823545\n",
            "0.3507373440475795 0.3507373440475795\n",
            "0.26766447928431436 0.26766447928431436\n",
            "0.2565625795852157 0.2565625795852157\n",
            "0.11815207065160223 0.11815207065160223\n",
            "0.10347126921809947 0.10347126921809947\n",
            "0.07668133932575405 0.07668133932575405\n",
            "0.550205944046749 0.550205944046749\n",
            "0.20724997958466207 0.20724997958466207\n",
            "0.2379307506546749 0.2379307506546749\n",
            "0.2544921961505669 0.2544921961505669\n",
            "0.25544769452010807 0.25544769452010807\n",
            "0.07775279854490544 0.07775279854490544\n",
            "0.5080255202104925 0.5080255202104925\n",
            "0.5911307380940517 0.5911307380940517\n",
            "0.19518505552279874 0.19518505552279874\n",
            "0.2529880355738994 0.2529880355738994\n",
            "0.2049376830459961 0.2049376830459961\n",
            "0.5862650104637257 0.5862650104637257\n",
            "0.10477254156078372 0.10477254156078372\n",
            "0.18159490675380902 0.18159490675380902\n",
            "0.25097474588094604 0.25097474588094604\n",
            "0.869287511626362 0.869287511626362\n",
            "0.2921342946881367 0.2921342946881367\n",
            "0.04546761764078971 0.04546761764078971\n",
            "0.5806936128366108 0.5806936128366108\n",
            "0.15500112846645517 0.15500112846645517\n",
            "0.27989354785355214 0.27989354785355214\n",
            "0.07187028327838493 0.07187028327838493\n",
            "0.5499824133974445 0.5499824133974445\n",
            "0.10927691338429556 0.10927691338429556\n",
            "0.1224770405303282 0.1224770405303282\n",
            "0.3903312267472761 0.3903312267472761\n",
            "0.062180107441771305 0.062180107441771305\n",
            "0.23048667829994907 0.23048667829994907\n",
            "0.4060832170697139 0.4060832170697139\n",
            "0.08515969508827731 0.08515969508827731\n",
            "0.1349021309460537 0.1349021309460537\n",
            "0.2525150874537714 0.2525150874537714\n",
            "0.8680577470325095 0.8680577470325095\n",
            "2.244833362399238 2.244833362399238\n",
            "0.32857387791766324 0.32857387791766324\n",
            "0.34741172009948845 0.34741172009948845\n",
            "0.36206344481491937 0.36206344481491937\n",
            "0.1998224081863429 0.1998224081863429\n",
            "0.2740825727754894 0.2740825727754894\n",
            "0.1913719505021481 0.1913719505021481\n",
            "0.19950897652028524 0.19950897652028524\n",
            "0.24632162755918371 0.24632162755918371\n",
            "0.210879108673266 0.210879108673266\n",
            "0.11401607240732128 0.11401607240732128\n",
            "0.6231980869098237 0.6231980869098237\n",
            "0.09562836247536319 0.09562836247536319\n",
            "0.24370779388397998 0.24370779388397998\n",
            "0.595157576996966 0.595157576996966\n",
            "0.11327791953173443 0.11327791953173443\n",
            "0.18018949239857382 0.18018949239857382\n",
            "0.23947822894521215 0.23947822894521215\n",
            "1.319357996445655 1.319357996445655\n",
            "0.19551734542474974 0.19551734542474974\n",
            "0.19700026885962 0.19700026885962\n",
            "0.2373071312851559 0.2373071312851559\n",
            "0.09169802064648108 0.09169802064648108\n",
            "0.660325195572017 0.660325195572017\n",
            "0.4364404353103685 0.4364404353103685\n",
            "0.30638785543449376 0.30638785543449376\n",
            "1.334506263702498 1.334506263702498\n",
            "0.1139827460982483 0.1139827460982483\n",
            "0.12800363903398773 0.12800363903398773\n",
            "0.21861935481303701 0.21861935481303701\n",
            "0.2811346663164917 0.2811346663164917\n",
            "0.39031332007374436 0.39031332007374436\n",
            "0.7985276043050757 0.7985276043050757\n",
            "0.1625448229125144 0.1625448229125144\n",
            "0.4023810339434405 0.4023810339434405\n",
            "1.0104705596986003 1.0104705596986003\n",
            "0.268631634292785 0.268631634292785\n",
            "0.1583845382015956 0.1583845382015956\n",
            "0.18089523808782332 0.18089523808782332\n",
            "0.07162728344689798 0.07162728344689798\n",
            "0.1634423192308331 0.1634423192308331\n",
            "0.16381511541240368 0.16381511541240368\n",
            "0.1558991438187893 0.1558991438187893\n",
            "0.12976581358235895 0.12976581358235895\n",
            "0.2908808059144964 0.2908808059144964\n",
            "0.22034451574818406 0.22034451574818406\n",
            "0.17930929721410221 0.17930929721410221\n",
            "0.6210894679693728 0.6210894679693728\n",
            "0.1825775679034901 0.1825775679034901\n",
            "0.13649718735467048 0.13649718735467048\n",
            "0.27909181331107713 0.27909181331107713\n",
            "0.018469936273868646 0.018469936273868646\n",
            "0.7033009957840597 0.7033009957840597\n",
            "0.09318584246487177 0.09318584246487177\n",
            "0.20049254597949331 0.20049254597949331\n",
            "0.3943229010956462 0.3943229010956462\n",
            "0.16661186532520594 0.16661186532520594\n",
            "0.13566731684327665 0.13566731684327665\n",
            "0.1356733830533318 0.1356733830533318\n",
            "0.1686957652706728 0.1686957652706728\n",
            "0.2821173274661728 0.2821173274661728\n",
            "0.03793928335762412 0.03793928335762412\n",
            "0.3581233710982483 0.3581233710982483\n",
            "0.4829275006366817 0.4829275006366817\n",
            "0.6168894879694836 0.6168894879694836\n",
            "0.22897254794490213 0.22897254794490213\n",
            "0.31734853462856544 0.31734853462856544\n",
            "0.28168880000719726 0.28168880000719726\n",
            "0.260447073409403 0.260447073409403\n",
            "0.36675358756311455 0.36675358756311455\n",
            "0.23049586952730533 0.23049586952730533\n",
            "0.07339527009492094 0.07339527009492094\n",
            "0.17958909980124457 0.17958909980124457\n",
            "0.17454646807733193 0.17454646807733193\n",
            "0.21544515903894276 0.21544515903894276\n",
            "0.3802787922009257 0.3802787922009257\n",
            "0.8305745810357428 0.8305745810357428\n",
            "0.13494106931041833 0.13494106931041833\n",
            "0.10562907744471942 0.10562907744471942\n",
            "0.11060298041442444 0.11060298041442444\n",
            "0.38597012993843566 0.38597012993843566\n",
            "0.17516913588448932 0.17516913588448932\n",
            "0.26595482449037783 0.26595482449037783\n",
            "0.1382042253521127 0.1382042253521127\n",
            "0.3762621609669811 0.3762621609669811\n",
            "0.22930092346532022 0.22930092346532022\n",
            "0.1654000290313026 0.1654000290313026\n",
            "0.3201959119842878 0.3201959119842878\n",
            "0.15615378406939276 0.15615378406939276\n",
            "1.0475631525987688 1.0475631525987688\n",
            "0.6847852790880503 0.6847852790880503\n",
            "0.25434639084507044 0.25434639084507044\n",
            "0.2252266794556648 0.2252266794556648\n",
            "0.30043983374994465 0.30043983374994465\n",
            "0.06660794337442699 0.06660794337442699\n",
            "0.5573824543665293 0.5573824543665293\n",
            "0.2618426693711799 0.2618426693711799\n",
            "0.082215528701889 0.082215528701889\n",
            "0.12852618734221366 0.12852618734221366\n",
            "0.14034633279976635 0.14034633279976635\n",
            "0.2205093739273297 0.2205093739273297\n",
            "0.15147051852190185 0.15147051852190185\n",
            "0.26624089873853973 0.26624089873853973\n",
            "0.14891875266437463 0.14891875266437463\n",
            "0.15222383151602223 0.15222383151602223\n",
            "0.20015837457923644 0.20015837457923644\n",
            "0.39259360951479316 0.39259360951479316\n",
            "0.5092454231580521 0.5092454231580521\n",
            "0.17710859298875012 0.17710859298875012\n",
            "0.2689346203992825 0.2689346203992825\n",
            "0.692019791459053 0.692019791459053\n",
            "0.33035574331899414 0.33035574331899414\n",
            "0.22005640861679512 0.22005640861679512\n",
            "0.06425783845170077 0.06425783845170077\n",
            "0.09237458148557223 0.09237458148557223\n",
            "0.388123169540039 0.388123169540039\n",
            "0.48445181703428114 0.48445181703428114\n",
            "0.27349180393386263 0.27349180393386263\n",
            "0.4667897815351227 0.4667897815351227\n",
            "0.3436177760845735 0.3436177760845735\n",
            "0.27469736856674637 0.27469736856674637\n",
            "0.2741881313183741 0.2741881313183741\n",
            "0.3512804050126229 0.3512804050126229\n",
            "0.5701341685628709 0.5701341685628709\n",
            "0.6069822531889449 0.6069822531889449\n",
            "0.09578878723896049 0.09578878723896049\n",
            "0.410056552216206 0.410056552216206\n",
            "0.02480814718610899 0.02480814718610899\n",
            "0.1251984764448523 0.1251984764448523\n",
            "0.34129159538599524 0.34129159538599524\n",
            "0.6200476369419347 0.6200476369419347\n",
            "0.38062459861369474 0.38062459861369474\n",
            "0.7270073121512092 0.7270073121512092\n",
            "0.42537657647931615 0.42537657647931615\n",
            "0.1820879674420343 0.1820879674420343\n",
            "0.2832183932506201 0.2832183932506201\n",
            "0.3761718057954646 0.3761718057954646\n",
            "0.302081559967114 0.302081559967114\n",
            "0.2931359870850496 0.2931359870850496\n",
            "0.27625557356026886 0.27625557356026886\n",
            "0.2406143511521171 0.2406143511521171\n",
            "0.23536985844904332 0.23536985844904332\n",
            "0.04267327096361087 0.04267327096361087\n",
            "0.2953287111624147 0.2953287111624147\n",
            "0.26477568733944545 0.26477568733944545\n",
            "0.3925155381483081 0.3925155381483081\n",
            "0.7754272168980866 0.7754272168980866\n",
            "0.10158843007435335 0.10158843007435335\n",
            "0.7424323110439366 0.7424323110439366\n",
            "0.08604157172669467 0.08604157172669467\n",
            "0.882366995803437 0.882366995803437\n",
            "0.21094346889117727 0.21094346889117727\n",
            "0.24043870139073434 0.24043870139073434\n",
            "0.8660627532885995 0.8660627532885995\n",
            "0.4053371056725574 0.4053371056725574\n",
            "0.15344459952027417 0.15344459952027417\n",
            "0.1746769186265391 0.1746769186265391\n",
            "0.395281946197626 0.395281946197626\n",
            "0.5402911400201523 0.5402911400201523\n",
            "0.3804043119269864 0.3804043119269864\n",
            "0.25124388664435515 0.25124388664435515\n",
            "0.8436294110970857 0.8436294110970857\n",
            "0.22678724172867393 0.22678724172867393\n",
            "0.20567711188020418 0.20567711188020418\n",
            "0.07285054389574475 0.07285054389574475\n",
            "0.5200741595801223 0.5200741595801223\n",
            "0.4097380383420808 0.4097380383420808\n",
            "0.18280211499440827 0.18280211499440827\n",
            "0.16723878272336457 0.16723878272336457\n",
            "0.1357806608963925 0.1357806608963925\n",
            "0.28541438291699883 0.28541438291699883\n",
            "0.16514165822371335 0.16514165822371335\n",
            "0.2184749552246656 0.2184749552246656\n",
            "0.2703117906535123 0.2703117906535123\n",
            "1.2391760646425725 1.2391760646425725\n",
            "0.2535697861995084 0.2535697861995084\n",
            "0.10186461023659646 0.10186461023659646\n",
            "0.2500157440318009 0.2500157440318009\n",
            "0.306008744339069 0.306008744339069\n",
            "0.12304802120011737 0.12304802120011737\n",
            "0.3063317132551599 0.3063317132551599\n",
            "0.6685752412470104 0.6685752412470104\n",
            "0.4024535689470945 0.4024535689470945\n",
            "0.5084990522438878 0.5084990522438878\n",
            "0.1784320215959673 0.1784320215959673\n",
            "0.2806072628775799 0.2806072628775799\n",
            "0.4746602835863451 0.4746602835863451\n",
            "0.9830127087208788 0.9830127087208788\n",
            "0.3287240950122907 0.3287240950122907\n",
            "0.3920640218077332 0.3920640218077332\n",
            "0.28540999275428514 0.28540999275428514\n",
            "0.11837684481990211 0.11837684481990211\n",
            "0.06610762161659027 0.06610762161659027\n",
            "3.9581094566613517 3.9581094566613517\n",
            "0.15242766049915848 0.15242766049915848\n",
            "0.6706404775943396 0.6706404775943396\n",
            "0.7019527184233546 0.7019527184233546\n",
            "0.13209079401477655 0.13209079401477655\n",
            "0.15827963926443883 0.15827963926443883\n",
            "0.2556913593639273 0.2556913593639273\n",
            "0.12044867722451058 0.12044867722451058\n",
            "0.21440942666118568 0.21440942666118568\n",
            "0.14455906157265921 0.14455906157265921\n",
            "0.19895936275079723 0.19895936275079723\n",
            "0.7385687083388697 0.7385687083388697\n",
            "0.12895249809341505 0.12895249809341505\n",
            "0.44121312609343166 0.44121312609343166\n",
            "0.3239554483692643 0.3239554483692643\n",
            "0.12427623950513221 0.12427623950513221\n",
            "0.12558283194647443 0.12558283194647443\n",
            "0.18078590573511827 0.18078590573511827\n",
            "0.26593767474145186 0.26593767474145186\n",
            "0.2850430140789707 0.2850430140789707\n",
            "0.29145122429743553 0.29145122429743553\n",
            "0.10922163626165404 0.10922163626165404\n",
            "1.1168541936564356 1.1168541936564356\n",
            "0.4074376363329347 0.4074376363329347\n",
            "0.47816670438313846 0.47816670438313846\n",
            "0.21240491729365976 0.21240491729365976\n",
            "2.100570452985207 2.100570452985207\n",
            "0.33604894092839266 0.33604894092839266\n",
            "0.34483129923902694 0.34483129923902694\n",
            "0.22340389687278545 0.22340389687278545\n",
            "0.11193635717360373 0.11193635717360373\n",
            "0.45501661946917354 0.45501661946917354\n",
            "0.2974884117005492 0.2974884117005492\n",
            "0.04186540533182883 0.04186540533182883\n",
            "0.08102788155574564 0.08102788155574564\n",
            "0.18122173210993556 0.18122173210993556\n",
            "0.11347590938219727 0.11347590938219727\n",
            "0.21271331000448446 0.21271331000448446\n",
            "0.1768552178835592 0.1768552178835592\n",
            "0.09361229378778568 0.09361229378778568\n",
            "1.5424557713814333 1.5424557713814333\n",
            "0.8302492332137479 0.8302492332137479\n",
            "0.2637188475783949 0.2637188475783949\n",
            "0.3850591819885508 0.3850591819885508\n",
            "0.46560015557179557 0.46560015557179557\n",
            "0.09908197156108822 0.09908197156108822\n",
            "0.44503395174506155 0.44503395174506155\n",
            "0.31753534362127955 0.31753534362127955\n",
            "0.2965527663820976 0.2965527663820976\n",
            "0.09295407215057246 0.09295407215057246\n",
            "0.24229474540343476 0.24229474540343476\n",
            "0.6401573503521126 0.6401573503521126\n",
            "0.3322644476578417 0.3322644476578417\n",
            "0.21232312618339755 0.21232312618339755\n",
            "0.6097857289175304 0.6097857289175304\n",
            "0.20531973533417486 0.20531973533417486\n",
            "0.08115738594919557 0.08115738594919557\n",
            "0.1335982309936664 0.1335982309936664\n",
            "0.2175940679948401 0.2175940679948401\n",
            "0.1926760667187085 0.1926760667187085\n",
            "0.20793687785122686 0.20793687785122686\n",
            "0.3886906034773895 0.3886906034773895\n",
            "0.24905077329147843 0.24905077329147843\n",
            "0.22130211188020418 0.22130211188020418\n",
            "0.1911165641401475 0.1911165641401475\n",
            "0.2009690624584773 0.2009690624584773\n",
            "0.6479089071081362 0.6479089071081362\n",
            "0.087914219421284 0.087914219421284\n",
            "0.2803915177385065 0.2803915177385065\n",
            "0.6673933575410798 0.6673933575410798\n",
            "0.31981777407764195 0.31981777407764195\n",
            "0.18178359724482904 0.18178359724482904\n",
            "0.10077032433397555 0.10077032433397555\n",
            "0.08508766830543006 0.08508766830543006\n",
            "0.03978617398919856 0.03978617398919856\n",
            "0.7299184009323235 0.7299184009323235\n",
            "0.21806701611496812 0.21806701611496812\n",
            "0.1030902874375775 0.1030902874375775\n",
            "0.17756940868876783 0.17756940868876783\n",
            "0.19515289704026043 0.19515289704026043\n",
            "0.12071736383315616 0.12071736383315616\n",
            "0.25323040283268006 0.25323040283268006\n",
            "0.1774570486376395 0.1774570486376395\n",
            "0.8427557903434759 0.8427557903434759\n",
            "0.28585030661069405 0.28585030661069405\n",
            "0.19135281112282976 0.19135281112282976\n",
            "0.045930455410825806 0.045930455410825806\n",
            "0.09476790139668594 0.09476790139668594\n",
            "0.27889042811309683 0.27889042811309683\n",
            "0.2728501265058907 0.2728501265058907\n",
            "0.14805088453776907 0.14805088453776907\n",
            "0.1589489768801488 0.1589489768801488\n",
            "0.2755203402510187 0.2755203402510187\n",
            "0.3107560457082115 0.3107560457082115\n",
            "0.12606688523189055 0.12606688523189055\n",
            "0.27625012370310703 0.27625012370310703\n",
            "0.15400751353640713 0.15400751353640713\n",
            "0.4436867124523873 0.4436867124523873\n",
            "0.27527055513110105 0.27527055513110105\n",
            "0.2773786766639538 0.2773786766639538\n",
            "0.3865098820616308 0.3865098820616308\n",
            "0.1912039564924927 0.1912039564924927\n",
            "0.16067232119624192 0.16067232119624192\n",
            "0.11278946527039596 0.11278946527039596\n",
            "0.14510276051701324 0.14510276051701324\n",
            "0.27500048443174774 0.27500048443174774\n",
            "0.19489270961361724 0.19489270961361724\n",
            "0.2756021097348636 0.2756021097348636\n",
            "0.1688716637358546 0.1688716637358546\n",
            "0.2234402292538644 0.2234402292538644\n",
            "0.2892007576858557 0.2892007576858557\n",
            "0.3542687433563646 0.3542687433563646\n",
            "0.13019232978452475 0.13019232978452475\n",
            "0.30244477564581673 0.30244477564581673\n",
            "0.0724034447509052 0.0724034447509052\n",
            "0.20046153369707237 0.20046153369707237\n",
            "0.3120859622406214 0.3120859622406214\n",
            "0.09703363625888586 0.09703363625888586\n",
            "0.41458451846100186 0.41458451846100186\n",
            "0.11085503630815949 0.11085503630815949\n",
            "0.38129921307522807 0.38129921307522807\n",
            "0.1453489556516576 0.1453489556516576\n",
            "0.13806217223001926 0.13806217223001926\n",
            "0.08690847207112565 0.08690847207112565\n",
            "0.09224186016254761 0.09224186016254761\n",
            "0.07920397439916622 0.07920397439916622\n",
            "0.31166420385026355 0.31166420385026355\n",
            "0.12222241109293339 0.12222241109293339\n",
            "0.13431250830454425 0.13431250830454425\n",
            "0.40209660330299407 0.40209660330299407\n",
            "0.8349030652072814 0.8349030652072814\n",
            "0.19892359265656834 0.19892359265656834\n",
            "0.0821265468078716 0.0821265468078716\n",
            "0.47242830756156434 0.47242830756156434\n",
            "0.07419249552938702 0.07419249552938702\n",
            "0.19637515726730667 0.19637515726730667\n",
            "0.07126402451536064 0.07126402451536064\n",
            "0.3779056389239525 0.3779056389239525\n",
            "0.25161073556116575 0.25161073556116575\n",
            "0.15804596582541633 0.15804596582541633\n",
            "0.2784069695541567 0.2784069695541567\n"
          ],
          "name": "stdout"
        }
      ]
    },
    {
      "cell_type": "code",
      "metadata": {
        "id": "IZ6V0-1iJuuB",
        "colab_type": "code",
        "colab": {
          "base_uri": "https://localhost:8080/",
          "height": 34
        },
        "outputId": "3fcd9e12-bfd0-4770-e738-f71936530f2c"
      },
      "source": [
        "np.percentile(res,50)"
      ],
      "execution_count": null,
      "outputs": [
        {
          "output_type": "execute_result",
          "data": {
            "text/plain": [
              "0.2448422400435435"
            ]
          },
          "metadata": {
            "tags": []
          },
          "execution_count": 25
        }
      ]
    },
    {
      "cell_type": "code",
      "metadata": {
        "id": "4bZB2xWSPGCu",
        "colab_type": "code",
        "colab": {
          "base_uri": "https://localhost:8080/",
          "height": 810
        },
        "outputId": "b803c43a-eeff-47ec-84d9-919f027b2ae5"
      },
      "source": [
        "plt.hist(res,bins=100)"
      ],
      "execution_count": null,
      "outputs": [
        {
          "output_type": "execute_result",
          "data": {
            "text/plain": [
              "(array([ 57., 231., 268., 290., 253., 183., 135.,  95.,  67.,  47.,  40.,\n",
              "         40.,  31.,  22.,  15.,  15.,  16.,  12.,   7.,   5.,   3.,   3.,\n",
              "          4.,   4.,   3.,   2.,   3.,   2.,   2.,   2.,   0.,   0.,   0.,\n",
              "          1.,   0.,   1.,   2.,   3.,   0.,   0.,   1.,   0.,   0.,   0.,\n",
              "          0.,   0.,   1.,   0.,   0.,   0.,   1.,   0.,   0.,   0.,   1.,\n",
              "          0.,   0.,   0.,   0.,   0.,   0.,   0.,   0.,   0.,   0.,   0.,\n",
              "          0.,   0.,   0.,   0.,   0.,   1.,   0.,   0.,   0.,   0.,   0.,\n",
              "          0.,   0.,   0.,   0.,   0.,   0.,   0.,   0.,   0.,   0.,   0.,\n",
              "          0.,   0.,   0.,   0.,   0.,   0.,   0.,   0.,   0.,   0.,   0.,\n",
              "          1.]),\n",
              " array([0.00785749, 0.0630614 , 0.1182653 , 0.17346921, 0.22867312,\n",
              "        0.28387703, 0.33908093, 0.39428484, 0.44948875, 0.50469266,\n",
              "        0.55989656, 0.61510047, 0.67030438, 0.72550829, 0.78071219,\n",
              "        0.8359161 , 0.89112001, 0.94632392, 1.00152783, 1.05673173,\n",
              "        1.11193564, 1.16713955, 1.22234346, 1.27754736, 1.33275127,\n",
              "        1.38795518, 1.44315909, 1.49836299, 1.5535669 , 1.60877081,\n",
              "        1.66397472, 1.71917863, 1.77438253, 1.82958644, 1.88479035,\n",
              "        1.93999426, 1.99519816, 2.05040207, 2.10560598, 2.16080989,\n",
              "        2.21601379, 2.2712177 , 2.32642161, 2.38162552, 2.43682942,\n",
              "        2.49203333, 2.54723724, 2.60244115, 2.65764506, 2.71284896,\n",
              "        2.76805287, 2.82325678, 2.87846069, 2.93366459, 2.9888685 ,\n",
              "        3.04407241, 3.09927632, 3.15448022, 3.20968413, 3.26488804,\n",
              "        3.32009195, 3.37529585, 3.43049976, 3.48570367, 3.54090758,\n",
              "        3.59611149, 3.65131539, 3.7065193 , 3.76172321, 3.81692712,\n",
              "        3.87213102, 3.92733493, 3.98253884, 4.03774275, 4.09294665,\n",
              "        4.14815056, 4.20335447, 4.25855838, 4.31376228, 4.36896619,\n",
              "        4.4241701 , 4.47937401, 4.53457792, 4.58978182, 4.64498573,\n",
              "        4.70018964, 4.75539355, 4.81059745, 4.86580136, 4.92100527,\n",
              "        4.97620918, 5.03141308, 5.08661699, 5.1418209 , 5.19702481,\n",
              "        5.25222871, 5.30743262, 5.36263653, 5.41784044, 5.47304435,\n",
              "        5.52824825]),\n",
              " <a list of 100 Patch objects>)"
            ]
          },
          "metadata": {
            "tags": []
          },
          "execution_count": 26
        },
        {
          "output_type": "display_data",
          "data": {
            "image/png": "[encoded data removed]",
            "text/plain": [
              "<Figure size 432x288 with 1 Axes>"
            ]
          },
          "metadata": {
            "tags": [],
            "needs_background": "light"
          }
        }
      ]
    },
    {
      "cell_type": "code",
      "metadata": {
        "id": "ir7wmd8oNxue",
        "colab_type": "code",
        "colab": {
          "base_uri": "https://localhost:8080/",
          "height": 34
        },
        "outputId": "2fa77673-441c-4401-ee11-8cf44e578156"
      },
      "source": [
        "np.sum(res>np.percentile(res,50))"
      ],
      "execution_count": null,
      "outputs": [
        {
          "output_type": "execute_result",
          "data": {
            "text/plain": [
              "935"
            ]
          },
          "metadata": {
            "tags": []
          },
          "execution_count": 27
        }
      ]
    },
    {
      "cell_type": "code",
      "metadata": {
        "id": "GRHRg79qJZhh",
        "colab_type": "code",
        "colab": {}
      },
      "source": [
        "# n = dat['stimuli'].shape[0]\n",
        "\n",
        "# means = np.zeros(n)\n",
        "# contrasts = np.zeros(n)\n",
        "# for i in range(n):\n",
        "#   im2 = shift_and_scale(dat['stimuli'][i])\n",
        "#   means[i] = im2.mean()\n",
        "#   contrasts[i] = contrast1(im2)\n",
        "  \n",
        "# contrasts.shape, means.mean(), contrasts.mean(), np.median(contrasts), (contrasts>0.2).sum()"
      ],
      "execution_count": null,
      "outputs": []
    },
    {
      "cell_type": "markdown",
      "metadata": {
        "id": "h3yoGkml7DFN",
        "colab_type": "text"
      },
      "source": [
        "## Edge Detection"
      ]
    },
    {
      "cell_type": "code",
      "metadata": {
        "id": "AFG3tIHc7Fi-",
        "colab_type": "code",
        "colab": {}
      },
      "source": [
        "from scipy import ndimage\n",
        "from scipy.ndimage.filters import convolve\n",
        "\n",
        "from scipy import misc\n",
        "import numpy as np\n",
        "\n",
        "class cannyEdgeDetector:\n",
        "    def __init__(self, imgs, sigma=1, kernel_size=5, weak_pixel=75, strong_pixel=255, lowthreshold=0.05, highthreshold=0.15):\n",
        "        self.imgs = imgs\n",
        "        self.imgs_final = []\n",
        "        self.img_smoothed = None\n",
        "        self.gradientMat = None\n",
        "        self.thetaMat = None\n",
        "        self.nonMaxImg = None\n",
        "        self.thresholdImg = None\n",
        "        self.weak_pixel = weak_pixel\n",
        "        self.strong_pixel = strong_pixel\n",
        "        self.sigma = sigma\n",
        "        self.kernel_size = kernel_size\n",
        "        self.lowThreshold = lowthreshold\n",
        "        self.highThreshold = highthreshold\n",
        "        return \n",
        "    \n",
        "    def gaussian_kernel(self, size, sigma=1):\n",
        "        size = int(size) // 2\n",
        "        x, y = np.mgrid[-size:size+1, -size:size+1]\n",
        "        normal = 1 / (2.0 * np.pi * sigma**2)\n",
        "        g =  np.exp(-((x**2 + y**2) / (2.0*sigma**2))) * normal\n",
        "        return g\n",
        "    \n",
        "    def sobel_filters(self, img):\n",
        "        Kx = np.array([[-1, 0, 1], [-2, 0, 2], [-1, 0, 1]], np.float32)\n",
        "        Ky = np.array([[1, 2, 1], [0, 0, 0], [-1, -2, -1]], np.float32)\n",
        "\n",
        "        Ix = ndimage.filters.convolve(img, Kx)\n",
        "        Iy = ndimage.filters.convolve(img, Ky)\n",
        "\n",
        "        G = np.hypot(Ix, Iy)\n",
        "        G = G / G.max() * 255\n",
        "        theta = np.arctan2(Iy, Ix)\n",
        "        return (G, theta)\n",
        "    \n",
        "\n",
        "    def non_max_suppression(self, img, D):\n",
        "        M, N = img.shape\n",
        "        Z = np.zeros((M,N), dtype=np.int32)\n",
        "        angle = D * 180. / np.pi\n",
        "        angle[angle < 0] += 180\n",
        "\n",
        "\n",
        "        for i in range(1,M-1):\n",
        "            for j in range(1,N-1):\n",
        "                try:\n",
        "                    q = 255\n",
        "                    r = 255\n",
        "\n",
        "                   #angle 0\n",
        "                    if (0 <= angle[i,j] < 22.5) or (157.5 <= angle[i,j] <= 180):\n",
        "                        q = img[i, j+1]\n",
        "                        r = img[i, j-1]\n",
        "                    #angle 45\n",
        "                    elif (22.5 <= angle[i,j] < 67.5):\n",
        "                        q = img[i+1, j-1]\n",
        "                        r = img[i-1, j+1]\n",
        "                    #angle 90\n",
        "                    elif (67.5 <= angle[i,j] < 112.5):\n",
        "                        q = img[i+1, j]\n",
        "                        r = img[i-1, j]\n",
        "                    #angle 135\n",
        "                    elif (112.5 <= angle[i,j] < 157.5):\n",
        "                        q = img[i-1, j-1]\n",
        "                        r = img[i+1, j+1]\n",
        "\n",
        "                    if (img[i,j] >= q) and (img[i,j] >= r):\n",
        "                        Z[i,j] = img[i,j]\n",
        "                    else:\n",
        "                        Z[i,j] = 0\n",
        "\n",
        "\n",
        "                except IndexError as e:\n",
        "                    pass\n",
        "\n",
        "        return Z\n",
        "\n",
        "    def threshold(self, img):\n",
        "\n",
        "        highThreshold = img.max() * self.highThreshold;\n",
        "        lowThreshold = highThreshold * self.lowThreshold;\n",
        "\n",
        "        M, N = img.shape\n",
        "        res = np.zeros((M,N), dtype=np.int32)\n",
        "\n",
        "        weak = np.int32(self.weak_pixel)\n",
        "        strong = np.int32(self.strong_pixel)\n",
        "\n",
        "        strong_i, strong_j = np.where(img >= highThreshold)\n",
        "        zeros_i, zeros_j = np.where(img < lowThreshold)\n",
        "\n",
        "        weak_i, weak_j = np.where((img <= highThreshold) & (img >= lowThreshold))\n",
        "\n",
        "        res[strong_i, strong_j] = strong\n",
        "        res[weak_i, weak_j] = weak\n",
        "\n",
        "        return (res)\n",
        "\n",
        "    def hysteresis(self, img):\n",
        "\n",
        "        M, N = img.shape\n",
        "        weak = self.weak_pixel\n",
        "        strong = self.strong_pixel\n",
        "\n",
        "        for i in range(1, M-1):\n",
        "            for j in range(1, N-1):\n",
        "                if (img[i,j] == weak):\n",
        "                    try:\n",
        "                        if ((img[i+1, j-1] == strong) or (img[i+1, j] == strong) or (img[i+1, j+1] == strong)\n",
        "                            or (img[i, j-1] == strong) or (img[i, j+1] == strong)\n",
        "                            or (img[i-1, j-1] == strong) or (img[i-1, j] == strong) or (img[i-1, j+1] == strong)):\n",
        "                            img[i, j] = strong\n",
        "                        else:\n",
        "                            img[i, j] = 0\n",
        "                    except IndexError as e:\n",
        "                        pass\n",
        "\n",
        "        return img\n",
        "    \n",
        "    def detect(self):\n",
        "        imgs_final = []\n",
        "        for i, img in enumerate(self.imgs):    \n",
        "            self.img_smoothed = convolve(img, self.gaussian_kernel(self.kernel_size, self.sigma))\n",
        "            self.gradientMat, self.thetaMat = self.sobel_filters(self.img_smoothed)\n",
        "            self.nonMaxImg = self.non_max_suppression(self.gradientMat, self.thetaMat)\n",
        "            self.thresholdImg = self.threshold(self.nonMaxImg)\n",
        "            img_final = self.hysteresis(self.thresholdImg)\n",
        "            self.imgs_final.append(img_final)\n",
        "            #print(i)\n",
        "        return self.imgs_final"
      ],
      "execution_count": 27,
      "outputs": []
    },
    {
      "cell_type": "code",
      "metadata": {
        "id": "azpHbn-Z7I-V",
        "colab_type": "code",
        "colab": {
          "base_uri": "https://localhost:8080/",
          "height": 444
        },
        "outputId": "42f34b36-e94e-4629-964e-49e6810c3c43"
      },
      "source": [
        "f, axs = plt.subplots(2, 4, figsize=(12, 6), sharex=True, sharey=True)\n",
        "for ax, im in zip(axs.flat, dat['stimuli']):\n",
        "  ax.imshow(im, cmap=\"gray\")\n",
        "f.tight_layout()"
      ],
      "execution_count": 28,
      "outputs": [
        {
          "output_type": "display_data",
          "data": {
            "image/png": "[encoded data removed]",
            "text/plain": [
              "<Figure size 864x432 with 8 Axes>"
            ]
          },
          "metadata": {
            "tags": [],
            "needs_background": "light"
          }
        }
      ]
    },
    {
      "cell_type": "code",
      "metadata": {
        "id": "EbKGkB097NMV",
        "colab_type": "code",
        "colab": {}
      },
      "source": [
        "# cnd = cannyEdgeDetector(images1[0:12])\n",
        "cnd = cannyEdgeDetector(dat['stimuli'])\n",
        "images = cnd.detect()\n",
        "# f, axs = plt.subplots(2, 4, figsize=(12, 6), sharex=True, sharey=True)\n",
        "# for ax, im in zip(axs.flat, images):\n",
        "#   ax.imshow(im, cmap=\"gray\")\n",
        "# f.tight_layout()"
      ],
      "execution_count": 29,
      "outputs": []
    },
    {
      "cell_type": "code",
      "metadata": {
        "id": "PGCUR0yplfv4",
        "colab_type": "code",
        "colab": {
          "base_uri": "https://localhost:8080/",
          "height": 444
        },
        "outputId": "55333d56-d55a-40a6-8923-b0d294dd29d5"
      },
      "source": [
        "f, axs = plt.subplots(2, 4, figsize=(12, 6), sharex=True, sharey=True)\n",
        "for ax, im in zip(axs.flat, images):\n",
        "  ax.imshow(im, cmap=\"gray\")\n",
        "f.tight_layout()"
      ],
      "execution_count": 40,
      "outputs": [
        {
          "output_type": "display_data",
          "data": {
            "image/png": "[encoded data removed]",
            "text/plain": [
              "<Figure size 864x432 with 8 Axes>"
            ]
          },
          "metadata": {
            "tags": [],
            "needs_background": "light"
          }
        }
      ]
    },
    {
      "cell_type": "code",
      "metadata": {
        "id": "15WE0dPV7Rwu",
        "colab_type": "code",
        "colab": {}
      },
      "source": [
        "m2 = dat['stimuli'].shape[0]\n",
        "edges = np.zeros(m2)\n",
        "for i in range(m2):\n",
        "  edges[i] = np.sum(images[i]==255)/(120*120)"
      ],
      "execution_count": 30,
      "outputs": []
    },
    {
      "cell_type": "code",
      "metadata": {
        "id": "NVCCJFw0NfH2",
        "colab_type": "code",
        "colab": {
          "base_uri": "https://localhost:8080/",
          "height": 775
        },
        "outputId": "c9ac46e9-b2ff-4e78-f8f8-f4ed2dc64ed5"
      },
      "source": [
        "plt.hist(edges, bins=100)"
      ],
      "execution_count": 31,
      "outputs": [
        {
          "output_type": "execute_result",
          "data": {
            "text/plain": [
              "(array([ 1.,  1.,  0.,  2.,  1.,  0.,  4.,  3.,  0.,  3.,  6.,  3., 10.,\n",
              "         1.,  8., 14., 12., 18., 17., 14., 20., 17., 15., 26., 17., 26.,\n",
              "        32., 34., 31., 38., 30., 41., 40., 35., 26., 45., 38., 44., 44.,\n",
              "        47., 60., 53., 36., 51., 47., 29., 40., 44., 45., 42., 46., 32.,\n",
              "        41., 44., 39., 35., 23., 29., 28., 24., 17., 17., 20., 18., 13.,\n",
              "        27., 21., 19., 14., 11., 23., 11., 11., 10.,  6.,  8.,  8.,  6.,\n",
              "         8.,  6.,  9.,  5.,  3.,  2.,  3.,  5.,  1.,  1.,  7.,  1.,  2.,\n",
              "         2.,  0.,  1.,  0.,  0.,  0.,  1.,  0.,  1.]),\n",
              " array([0.03118056, 0.03401319, 0.03684583, 0.03967847, 0.04251111,\n",
              "        0.04534375, 0.04817639, 0.05100903, 0.05384167, 0.05667431,\n",
              "        0.05950694, 0.06233958, 0.06517222, 0.06800486, 0.0708375 ,\n",
              "        0.07367014, 0.07650278, 0.07933542, 0.08216806, 0.08500069,\n",
              "        0.08783333, 0.09066597, 0.09349861, 0.09633125, 0.09916389,\n",
              "        0.10199653, 0.10482917, 0.10766181, 0.11049444, 0.11332708,\n",
              "        0.11615972, 0.11899236, 0.121825  , 0.12465764, 0.12749028,\n",
              "        0.13032292, 0.13315556, 0.13598819, 0.13882083, 0.14165347,\n",
              "        0.14448611, 0.14731875, 0.15015139, 0.15298403, 0.15581667,\n",
              "        0.15864931, 0.16148194, 0.16431458, 0.16714722, 0.16997986,\n",
              "        0.1728125 , 0.17564514, 0.17847778, 0.18131042, 0.18414306,\n",
              "        0.18697569, 0.18980833, 0.19264097, 0.19547361, 0.19830625,\n",
              "        0.20113889, 0.20397153, 0.20680417, 0.20963681, 0.21246944,\n",
              "        0.21530208, 0.21813472, 0.22096736, 0.2238    , 0.22663264,\n",
              "        0.22946528, 0.23229792, 0.23513056, 0.23796319, 0.24079583,\n",
              "        0.24362847, 0.24646111, 0.24929375, 0.25212639, 0.25495903,\n",
              "        0.25779167, 0.26062431, 0.26345694, 0.26628958, 0.26912222,\n",
              "        0.27195486, 0.2747875 , 0.27762014, 0.28045278, 0.28328542,\n",
              "        0.28611806, 0.28895069, 0.29178333, 0.29461597, 0.29744861,\n",
              "        0.30028125, 0.30311389, 0.30594653, 0.30877917, 0.31161181,\n",
              "        0.31444444]),\n",
              " <a list of 100 Patch objects>)"
            ]
          },
          "metadata": {
            "tags": []
          },
          "execution_count": 31
        },
        {
          "output_type": "display_data",
          "data": {
            "image/png": "[encoded data removed]",
            "text/plain": [
              "<Figure size 432x288 with 1 Axes>"
            ]
          },
          "metadata": {
            "tags": [],
            "needs_background": "light"
          }
        }
      ]
    },
    {
      "cell_type": "code",
      "metadata": {
        "id": "HjVdKYXdNkuL",
        "colab_type": "code",
        "colab": {
          "base_uri": "https://localhost:8080/",
          "height": 34
        },
        "outputId": "601cc8dd-b95e-475f-834e-668253a1630b"
      },
      "source": [
        "np.percentile(edges,50)"
      ],
      "execution_count": 32,
      "outputs": [
        {
          "output_type": "execute_result",
          "data": {
            "text/plain": [
              "0.15447916666666667"
            ]
          },
          "metadata": {
            "tags": []
          },
          "execution_count": 32
        }
      ]
    },
    {
      "cell_type": "code",
      "metadata": {
        "id": "ZxhSi_BYOcw6",
        "colab_type": "code",
        "colab": {
          "base_uri": "https://localhost:8080/",
          "height": 34
        },
        "outputId": "69aa2725-e82e-45f0-cac9-0fb192b2753a"
      },
      "source": [
        "np.sum(edges>np.percentile(edges,50))"
      ],
      "execution_count": 33,
      "outputs": [
        {
          "output_type": "execute_result",
          "data": {
            "text/plain": [
              "935"
            ]
          },
          "metadata": {
            "tags": []
          },
          "execution_count": 33
        }
      ]
    },
    {
      "cell_type": "markdown",
      "metadata": {
        "id": "wr6jeQRxQa3S",
        "colab_type": "text"
      },
      "source": [
        "## Main Code for execution"
      ]
    },
    {
      "cell_type": "code",
      "metadata": {
        "id": "mTAzUDdLV2IN",
        "colab_type": "code",
        "colab": {}
      },
      "source": [
        "test_accuracies = np.zeros((7, 8))"
      ],
      "execution_count": 34,
      "outputs": []
    },
    {
      "cell_type": "code",
      "metadata": {
        "id": "u2UX9xC2Uq7h",
        "colab_type": "code",
        "colab": {
          "base_uri": "https://localhost:8080/",
          "height": 34
        },
        "outputId": "c9926f23-e4f9-4e05-dc79-66e09933396a"
      },
      "source": [
        "X0 = dat['responses']\n",
        "#X0 = dat['responses'][non_living_mask|living_mask] \n",
        "for roi in range(1, 2):\n",
        "  X1 = X0#[:, dat['roi'] == roi] #!=roi]\n",
        "  #y1 = res>np.percentile(res,50)\n",
        "  y1 = edges>np.percentile(edges,50)\n",
        "  #y1 = y0 == 'artifact'\n",
        "\n",
        "  #Splitting the dataset into train and test set & Feature Scaling\n",
        "  X_train, X_test, y_train, y_test = train_test_data(X1,y1)\n",
        "\n",
        "  # Training the dataset and predicting the test set\n",
        "  print(X1.shape, y1.shape, y_test.shape, y_train.shape, X_test.shape, X_train.shape)\n",
        "  y_pred1, classifier = logistic_regression(X_train,y_train)\n",
        "  #y_pred = RandomForest(X_train,y_train)\n",
        "\n",
        "  #Computaing accuracy of test dataset    \n",
        "  test_accuracy = accuracy_score_LR(y_test, y_pred1)\n",
        "  test_accuracies[roi-1][2] = test_accuracy\n",
        "\n",
        "  y_pred2 = KernelSVM(X_train,y_train) \n",
        "  test_accuracy = accuracy_score_LR(y_test, y_pred2)\n",
        "  test_accuracies[roi-1][3] = test_accuracy"
      ],
      "execution_count": 35,
      "outputs": [
        {
          "output_type": "stream",
          "text": [
            "(1870, 8428) (1870,) (468,) (1402,) (468, 8428) (1402, 8428)\n"
          ],
          "name": "stdout"
        }
      ]
    },
    {
      "cell_type": "code",
      "metadata": {
        "id": "ZAJDnuJ1UtoC",
        "colab_type": "code",
        "colab": {
          "base_uri": "https://localhost:8080/",
          "height": 34
        },
        "outputId": "f88aa657-3a30-457a-e01f-33f786890a5b"
      },
      "source": [
        "print(test_accuracy)"
      ],
      "execution_count": null,
      "outputs": [
        {
          "output_type": "stream",
          "text": [
            "0.7222222222222222\n"
          ],
          "name": "stdout"
        }
      ]
    },
    {
      "cell_type": "code",
      "metadata": {
        "id": "e65UbrW7Qb-j",
        "colab_type": "code",
        "colab": {
          "base_uri": "https://localhost:8080/",
          "height": 452
        },
        "outputId": "c9f1cdff-3f87-406c-de6c-05943b32ae92"
      },
      "source": [
        "plt.hist(classifier.coef_)"
      ],
      "execution_count": null,
      "outputs": [
        {
          "output_type": "execute_result",
          "data": {
            "text/plain": [
              "(array([[0., 0., 0., ..., 0., 0., 0.],\n",
              "        [0., 0., 0., ..., 0., 0., 0.],\n",
              "        [0., 0., 0., ..., 0., 0., 0.],\n",
              "        ...,\n",
              "        [0., 0., 0., ..., 0., 0., 0.],\n",
              "        [0., 0., 0., ..., 0., 0., 0.],\n",
              "        [0., 0., 0., ..., 0., 0., 0.]]),\n",
              " array([-0.2687105 , -0.22376408, -0.17881766, -0.13387123, -0.08892481,\n",
              "        -0.04397839,  0.00096803,  0.04591446,  0.09086088,  0.1358073 ,\n",
              "         0.18075372]),\n",
              " <a list of 8428 Lists of Patches objects>)"
            ]
          },
          "metadata": {
            "tags": []
          },
          "execution_count": 44
        },
        {
          "output_type": "display_data",
          "data": {
            "image/png": "[encoded data removed]",
            "text/plain": [
              "<Figure size 432x288 with 1 Axes>"
            ]
          },
          "metadata": {
            "tags": [],
            "needs_background": "light"
          }
        }
      ]
    },
    {
      "cell_type": "code",
      "metadata": {
        "id": "ftzfb7qfRa2w",
        "colab_type": "code",
        "colab": {
          "base_uri": "https://localhost:8080/",
          "height": 34
        },
        "outputId": "4116eede-783b-4ec8-df73-d1267a96c856"
      },
      "source": [
        "aa = classifier.coef_\n",
        "print(aa, aa.min(), np.percentile(aa,25), np.percentile(aa,50), np.percentile(aa,75), aa.max(), np.sum(aa==0), aa.shape)"
      ],
      "execution_count": 37,
      "outputs": [
        {
          "output_type": "stream",
          "text": [
            "[[0. 0. 0. ... 0. 0. 0.]] -0.26873045116294325 0.0 0.0 0.0 0.1814609033375909 8284 (1, 8428)\n"
          ],
          "name": "stdout"
        }
      ]
    },
    {
      "cell_type": "code",
      "metadata": {
        "id": "KeUJ6I96STX0",
        "colab_type": "code",
        "colab": {
          "base_uri": "https://localhost:8080/",
          "height": 136
        },
        "outputId": "aff57c28-1f68-46f3-ef46-5fb5364ddf8a"
      },
      "source": [
        "for roi in range(1,8):\n",
        "  bb = aa[:,dat['roi'] == roi]\n",
        "  print(roi, np.sum(bb!=0)*100/bb.shape[1], bb.shape[1], np.sum(bb!=0))"
      ],
      "execution_count": 39,
      "outputs": [
        {
          "output_type": "stream",
          "text": [
            "1 1.3910355486862442 1294 18\n",
            "2 2.4483917426788286 2083 51\n",
            "3 1.1731843575418994 1790 21\n",
            "4 3.0991735537190084 484 15\n",
            "5 1.2738853503184713 314 4\n",
            "6 1.498371335504886 1535 23\n",
            "7 1.293103448275862 928 12\n"
          ],
          "name": "stdout"
        }
      ]
    },
    {
      "cell_type": "code",
      "metadata": {
        "id": "848h0FVOakJO",
        "colab_type": "code",
        "colab": {}
      },
      "source": [
        "from sklearn.model_selection import cross_val_score\n",
        "all_accuracies = cross_val_score(estimator=classifier, X=X1, y=y1, cv=10)"
      ],
      "execution_count": null,
      "outputs": []
    },
    {
      "cell_type": "code",
      "metadata": {
        "id": "vSOK8glAasT7",
        "colab_type": "code",
        "colab": {
          "base_uri": "https://localhost:8080/",
          "height": 34
        },
        "outputId": "bf072293-aae5-434f-9f6c-9b75f766b474"
      },
      "source": [
        "aa = all_accuracies\n",
        "print(aa.min(), np.percentile(aa,25), np.percentile(aa,50), np.percentile(aa,75), aa.max(), np.sum(aa==0), aa.shape)"
      ],
      "execution_count": null,
      "outputs": [
        {
          "output_type": "stream",
          "text": [
            "0.7112299465240641 0.7219251336898396 0.7299465240641712 0.7486631016042781 0.7754010695187166 0 (10,)\n"
          ],
          "name": "stdout"
        }
      ]
    },
    {
      "cell_type": "code",
      "metadata": {
        "id": "14LkxXlIpA85",
        "colab_type": "code",
        "colab": {
          "base_uri": "https://localhost:8080/",
          "height": 255
        },
        "outputId": "ae55383a-ee24-40ae-b85a-04ec117a81c9"
      },
      "source": [
        "print(test_accuracies)"
      ],
      "execution_count": null,
      "outputs": [
        {
          "output_type": "stream",
          "text": [
            "[[0.         0.         0.         0.         0.         0.\n",
            "  0.65598291 0.63888889]\n",
            " [0.         0.         0.         0.         0.         0.\n",
            "  0.66880342 0.63247863]\n",
            " [0.         0.         0.         0.         0.         0.\n",
            "  0.61752137 0.59615385]\n",
            " [0.         0.         0.         0.         0.         0.\n",
            "  0.55982906 0.49145299]\n",
            " [0.         0.         0.         0.         0.         0.\n",
            "  0.56196581 0.49145299]\n",
            " [0.         0.         0.         0.         0.         0.\n",
            "  0.63247863 0.59615385]\n",
            " [0.         0.         0.         0.         0.         0.\n",
            "  0.5491453  0.54273504]]\n"
          ],
          "name": "stdout"
        }
      ]
    },
    {
      "cell_type": "code",
      "metadata": {
        "id": "4EVz5F6x5rxE",
        "colab_type": "code",
        "colab": {}
      },
      "source": [
        "'''test_accuracies = np.zeros((7, 2))\n",
        "for roi in range(1, 8):\n",
        "  X1 = X0[:, dat['roi'] == roi] #!=roi]\n",
        "  #y = labels.T[:,0]\n",
        "  y1 = y0 != 'artifact'\n",
        "\n",
        "  #Splitting the dataset into train and test set & Feature Scaling\n",
        "  X_train, X_test, y_train, y_test = train_test_data(X1,y1)\n",
        "\n",
        "  # Training the dataset and predicting the test set\n",
        "  print(X1.shape, y1.shape, y_test.shape, y_train.shape, X_test.shape, X_train.shape)\n",
        "  y_pred = logistic_regression(X_train,y_train)\n",
        "\n",
        "  #Computaing accuracy of test dataset    \n",
        "  test_accuracy = accuracy_score_LR(y_test, y_pred)\n",
        "  test_accuracies[roi-1][0] = test_accuracy'''"
      ],
      "execution_count": null,
      "outputs": []
    },
    {
      "cell_type": "markdown",
      "metadata": {
        "id": "AAHkTBr13pRP",
        "colab_type": "text"
      },
      "source": [
        "## GridSearchCV"
      ]
    },
    {
      "cell_type": "code",
      "metadata": {
        "id": "rumQV3FIXiRr",
        "colab_type": "code",
        "colab": {}
      },
      "source": [
        "X1 = X0\n",
        "y1 = y0 == 'artifact'\n",
        "\n",
        "#Splitting the dataset into train and test set & Feature Scaling\n",
        "X_train, X_test, y_train, y_test = train_test_data(X1,y1)"
      ],
      "execution_count": null,
      "outputs": []
    },
    {
      "cell_type": "code",
      "metadata": {
        "id": "qqqa8ltT5qHG",
        "colab_type": "code",
        "colab": {}
      },
      "source": [
        "#Logistic Regression\n",
        "from sklearn.model_selection import GridSearchCV \n",
        "  \n",
        "# Creating the hyperparameter grid \n",
        "c_space = np.linspace(0.01, 0.08, 50)\n",
        "#c_space = np.logspace(-5, 0, 20) \n",
        "param_grid = {'C': c_space, 'penalty':['l1','l2']} \n",
        "  \n",
        "# Instantiating the GridSearchCV object \n",
        "grid = GridSearchCV(LogisticRegression(max_iter = 1000, solver = 'liblinear'), param_grid, cv = 10) \n",
        "  \n",
        "grid.fit(X_train, y_train) \n",
        "  \n",
        "# Print the tuned parameters and score \n",
        "print(\"Tuned Logistic Regression Parameters: {}\".format(grid.best_params_))  \n",
        "print(\"Best score is {}\".format(grid.best_score_))"
      ],
      "execution_count": null,
      "outputs": []
    },
    {
      "cell_type": "markdown",
      "metadata": {
        "id": "JI9t5mh81S85",
        "colab_type": "text"
      },
      "source": [
        "For One But All Region\n",
        "Tuned Logistic Regression Parameters: {'C': 0.03142857142857143, 'penalty': 'l1'}\n",
        "Best score is 0.6982369146005509"
      ]
    },
    {
      "cell_type": "markdown",
      "metadata": {
        "id": "81LOqg3y1Gde",
        "colab_type": "text"
      },
      "source": [
        "For One Region \n",
        "Tuned Logistic Regression Parameters: {'C': 0.044285714285714296, 'penalty': 'l1'}\n",
        "Best score is 0.6883195592286501\n"
      ]
    },
    {
      "cell_type": "code",
      "metadata": {
        "id": "DIrREJO44oaG",
        "colab_type": "code",
        "colab": {}
      },
      "source": [
        "grid.best_estimator_, grid.best_params_, grid.best_score_"
      ],
      "execution_count": null,
      "outputs": []
    },
    {
      "cell_type": "code",
      "metadata": {
        "id": "cjXcrPsIk2VY",
        "colab_type": "code",
        "colab": {}
      },
      "source": [
        "#RandomForest\n",
        "param_grid = {\n",
        "    'bootstrap': [True],\n",
        "    'max_depth': [80],#, 90, 100, 110],\n",
        "    'max_features': [4, 5, 6],\n",
        "    'min_samples_leaf': [3],\n",
        "    'min_samples_split': [6, 7, 8],\n",
        "    'n_estimators': [385, 390, 395],\n",
        "    'criterion' : ['entropy']\n",
        "}\n",
        "\n",
        "gridRF = GridSearchCV(RandomForestClassifier(), param_grid = param_grid, cv = 3, n_jobs = -1, verbose = 2)\n",
        "gridRF.fit(X_train, y_train) \n",
        "\n",
        "# Print the tuned parameters and score \n",
        "print(\"Tuned RandomForestClassifier Parameters: {}\".format(gridRF.best_params_))  \n",
        "print(\"Best score is {}\".format(gridRF.best_score_))"
      ],
      "execution_count": null,
      "outputs": []
    },
    {
      "cell_type": "markdown",
      "metadata": {
        "id": "NUKdY5F9NXiF",
        "colab_type": "text"
      },
      "source": [
        "Tuned RandomForestClassifier Parameters: {'bootstrap': True, 'criterion': 'entropy', 'max_depth': 80, 'max_features': 3, 'min_samples_leaf': 4, 'min_samples_split': 8, 'n_estimators': 300}\n",
        "Best score is 0.6467165419783875\n",
        "\n"
      ]
    },
    {
      "cell_type": "code",
      "metadata": {
        "id": "JFh2_JbuU2xV",
        "colab_type": "code",
        "colab": {}
      },
      "source": [
        "gridRF.best_estimator_, gridRF.best_params_, gridRF.best_score_"
      ],
      "execution_count": null,
      "outputs": []
    },
    {
      "cell_type": "markdown",
      "metadata": {
        "id": "V2eJoYOnKR7S",
        "colab_type": "text"
      },
      "source": [
        "##RandomSearchCv"
      ]
    },
    {
      "cell_type": "code",
      "metadata": {
        "id": "CDuZqVEQ7j_o",
        "colab_type": "code",
        "colab": {}
      },
      "source": [
        "from sklearn.model_selection import RandomizedSearchCV \n",
        "from scipy.stats import randint \n",
        "  \n",
        "# Creating the hyperparameter grid  \n",
        "param_dist = {'C': [0.1, 0.2, 0.3, 0.4, 0.5]} \n",
        "  \n",
        "# Instantiating RandomizedSearchCV object \n",
        "grid = RandomizedSearchCV(LogisticRegression(max_iter=1000), param_dist, cv = 5) \n",
        "  \n",
        "grid.fit(X_train, y_train) \n",
        "  \n",
        "# Print the tuned parameters and score \n",
        "print(\"Tuned Logistic Regression Parameters: {}\".format(grid.best_params_)) \n",
        "print(\"Best score is {}\".format(grid.best_score_))"
      ],
      "execution_count": null,
      "outputs": []
    },
    {
      "cell_type": "code",
      "metadata": {
        "id": "cxFjpFwH7quM",
        "colab_type": "code",
        "colab": {}
      },
      "source": [
        "grid.best_estimator_, grid.best_params_, grid.best_score_"
      ],
      "execution_count": null,
      "outputs": []
    },
    {
      "cell_type": "markdown",
      "metadata": {
        "id": "touiaNXYKjZs",
        "colab_type": "text"
      },
      "source": [
        "##Accuracy"
      ]
    },
    {
      "cell_type": "code",
      "metadata": {
        "id": "zj6br98_PmE_",
        "colab_type": "code",
        "colab": {}
      },
      "source": [
        "'''test_accuracies = np.zeros((7, 5))\n",
        "for roi in range(1, 8):\n",
        "  X = X0[:, dat['roi'] == roi] #!=roi]\n",
        "  y = labels.T[:,0]\n",
        "  j=0\n",
        "  for category in ['animal', 'artifact', 'entity', 'fruit','geological formation']:\n",
        "    X1 = X.copy()  #(1750 * ..)\n",
        "    y1 = (labels.T[:, 0]==category).copy()   #(1750,)\n",
        "\n",
        "    #Splitting the dataset into train and test set & Feature Scaling\n",
        "    X_train, X_test, y_train, y_test = train_test_data(X1,y1)\n",
        "\n",
        "    # Training the dataset and predicting the test set\n",
        "    print(X1.shape, y1.shape, y_test.shape, y_train.shape, X_test.shape, X_train.shape)\n",
        "    y_pred = logistic_regression(X_train,y_train)\n",
        "\n",
        "    #Computaing accuracy of test dataset    \n",
        "    test_accuracy = accuracy_score_LR(y_test, y_pred)\n",
        "    test_accuracies[roi-1][j] = test_accuracy\n",
        "    j=j+1'''"
      ],
      "execution_count": null,
      "outputs": []
    },
    {
      "cell_type": "code",
      "metadata": {
        "id": "PFEwZsFpZcWd",
        "colab_type": "code",
        "colab": {}
      },
      "source": [
        "print(test_accuracies)"
      ],
      "execution_count": null,
      "outputs": []
    },
    {
      "cell_type": "code",
      "metadata": {
        "id": "fJgvysEZLPwQ",
        "colab_type": "code",
        "colab": {}
      },
      "source": [
        "dict(zip(dat[\"roi_names\"], np.bincount(dat[\"roi\"])))"
      ],
      "execution_count": null,
      "outputs": []
    },
    {
      "cell_type": "markdown",
      "metadata": {
        "id": "JM6BwAiiJiyY",
        "colab_type": "text"
      },
      "source": [
        "## Visualising the training set results"
      ]
    },
    {
      "cell_type": "code",
      "metadata": {
        "id": "QAUc3IlhJjW5",
        "colab_type": "code",
        "colab": {}
      },
      "source": [
        "dat[\"responses\"][n,dat['roi'] == 1].shape"
      ],
      "execution_count": null,
      "outputs": []
    },
    {
      "cell_type": "code",
      "metadata": {
        "id": "5cC0Kuw5TkIs",
        "colab_type": "code",
        "colab": {}
      },
      "source": [
        "plt.plot(np.sort(dat[\"roi\"]),'.')"
      ],
      "execution_count": null,
      "outputs": []
    },
    {
      "cell_type": "markdown",
      "metadata": {
        "id": "QwIF42FkJtHI",
        "colab_type": "text"
      },
      "source": [
        "## Visualising the test set results"
      ]
    },
    {
      "cell_type": "code",
      "metadata": {
        "id": "VhK0pFltJwvp",
        "colab_type": "code",
        "colab": {}
      },
      "source": [
        "def heatmap(data, row_labels, col_labels, ax=None,\n",
        "            cbar_kw={}, cbarlabel=\"\", **kwargs):\n",
        "    \"\"\"\n",
        "    Create a heatmap from a numpy array and two lists of labels.\n",
        "\n",
        "    Parameters\n",
        "    ----------\n",
        "    data\n",
        "        A 2D numpy array of shape (N, M).\n",
        "    row_labels\n",
        "        A list or array of length N with the labels for the rows.\n",
        "    col_labels\n",
        "        A list or array of length M with the labels for the columns.\n",
        "    ax\n",
        "        A `matplotlib.axes.Axes` instance to which the heatmap is plotted.  If\n",
        "        not provided, use current axes or create a new one.  Optional.\n",
        "    cbar_kw\n",
        "        A dictionary with arguments to `matplotlib.Figure.colorbar`.  Optional.\n",
        "    cbarlabel\n",
        "        The label for the colorbar.  Optional.\n",
        "    **kwargs\n",
        "        All other arguments are forwarded to `imshow`.\n",
        "    \"\"\"\n",
        "\n",
        "    if not ax:\n",
        "        ax = plt.gca()\n",
        "\n",
        "    # Plot the heatmap\n",
        "    im = ax.imshow(data, **kwargs)\n",
        "\n",
        "    # Create colorbar\n",
        "    cbar = ax.figure.colorbar(im, ax=ax, **cbar_kw)\n",
        "    cbar.ax.set_ylabel(cbarlabel, rotation=-90, va=\"bottom\")\n",
        "\n",
        "    # We want to show all ticks...\n",
        "    ax.set_xticks(np.arange(data.shape[1]))\n",
        "    ax.set_yticks(np.arange(data.shape[0]))\n",
        "    # ... and label them with the respective list entries.\n",
        "    ax.set_xticklabels(col_labels)\n",
        "    ax.set_yticklabels(row_labels)\n",
        "\n",
        "    # Let the horizontal axes labeling appear on top.\n",
        "    ax.tick_params(top=True, bottom=False,\n",
        "                   labeltop=True, labelbottom=False)\n",
        "\n",
        "    # Rotate the tick labels and set their alignment.\n",
        "    plt.setp(ax.get_xticklabels(), rotation=-30, ha=\"right\",\n",
        "             rotation_mode=\"anchor\")\n",
        "\n",
        "    # Turn spines off and create white grid.\n",
        "    for edge, spine in ax.spines.items():\n",
        "        spine.set_visible(False)\n",
        "\n",
        "    ax.set_xticks(np.arange(data.shape[1]+1)-.5, minor=True)\n",
        "    ax.set_yticks(np.arange(data.shape[0]+1)-.5, minor=True)\n",
        "    ax.grid(which=\"minor\", color=\"w\", linestyle='-', linewidth=3)\n",
        "    ax.tick_params(which=\"minor\", bottom=False, left=False)\n",
        "\n",
        "    return im, cbar\n",
        "\n",
        "\n",
        "def annotate_heatmap(im, data=None, valfmt=\"{x:.2f}\",\n",
        "                     textcolors=[\"black\", \"white\"],\n",
        "                     threshold=None, **textkw):\n",
        "    \"\"\"\n",
        "    A function to annotate a heatmap.\n",
        "\n",
        "    Parameters\n",
        "    ----------\n",
        "    im\n",
        "        The AxesImage to be labeled.\n",
        "    data\n",
        "        Data used to annotate.  If None, the image's data is used.  Optional.\n",
        "    valfmt\n",
        "        The format of the annotations inside the heatmap.  This should either\n",
        "        use the string format method, e.g. \"$ {x:.2f}\", or be a\n",
        "        `matplotlib.ticker.Formatter`.  Optional.\n",
        "    textcolors\n",
        "        A list or array of two color specifications.  The first is used for\n",
        "        values below a threshold, the second for those above.  Optional.\n",
        "    threshold\n",
        "        Value in data units according to which the colors from textcolors are\n",
        "        applied.  If None (the default) uses the middle of the colormap as\n",
        "        separation.  Optional.\n",
        "    **kwargs\n",
        "        All other arguments are forwarded to each call to `text` used to create\n",
        "        the text labels.\n",
        "    \"\"\"\n",
        "\n",
        "    if not isinstance(data, (list, np.ndarray)):\n",
        "        data = im.get_array()\n",
        "\n",
        "    # Normalize the threshold to the images color range.\n",
        "    if threshold is not None:\n",
        "        threshold = im.norm(threshold)\n",
        "    else:\n",
        "        threshold = im.norm(data.max())/2.\n",
        "\n",
        "    # Set default alignment to center, but allow it to be\n",
        "    # overwritten by textkw.\n",
        "    kw = dict(horizontalalignment=\"center\",\n",
        "              verticalalignment=\"center\")\n",
        "    kw.update(textkw)\n",
        "\n",
        "    # Get the formatter in case a string is supplied\n",
        "    if isinstance(valfmt, str):\n",
        "        valfmt = matplotlib.ticker.StrMethodFormatter(valfmt)\n",
        "\n",
        "    # Loop over the data and create a `Text` for each \"pixel\".\n",
        "    # Change the text's color depending on the data.\n",
        "    texts = []\n",
        "    for i in range(data.shape[0]):\n",
        "        for j in range(data.shape[1]):\n",
        "            kw.update(color=textcolors[int(im.norm(data[i, j]) > threshold)])\n",
        "            text = im.axes.text(j, i, valfmt(data[i, j], None), **kw)\n",
        "            texts.append(text)\n",
        "\n",
        "    return texts"
      ],
      "execution_count": null,
      "outputs": []
    },
    {
      "cell_type": "code",
      "metadata": {
        "id": "3PlfLhe8IXZR",
        "colab_type": "code",
        "colab": {
          "base_uri": "https://localhost:8080/",
          "height": 297
        },
        "outputId": "4444532e-f899-44d6-befd-9149ee5874e2"
      },
      "source": [
        "import matplotlib\n",
        "import matplotlib.pyplot as plt\n",
        "fig, ax = plt.subplots()\n",
        "\n",
        "im, cbar = heatmap(test_accuracies*100, ['V1', 'V2', 'V3', 'V3A', 'V3B', 'V4', 'LatOcc'], ['LR_edges', 'SVM_edges', 'LR_edges1O', 'SVM_edges1O','LR_con1', 'SVM_con1',\n",
        "                                                                                       'LR1O', 'SVM1O'], ax=ax,\n",
        "                   cmap=\"YlGn\", cbarlabel=\"Accuracy in %\")\n",
        "texts = annotate_heatmap(im, valfmt=\"{x:.1f}\", size=9)\n",
        "\n",
        "fig.tight_layout()\n",
        "plt.show()"
      ],
      "execution_count": null,
      "outputs": [
        {
          "output_type": "display_data",
          "data": {
            "image/png": "[encoded data removed]",
            "text/plain": [
              "<Figure size 432x288 with 2 Axes>"
            ]
          },
          "metadata": {
            "tags": [],
            "needs_background": "light"
          }
        }
      ]
    },
    {
      "cell_type": "markdown",
      "metadata": {
        "id": "DKe77XNGDl03",
        "colab_type": "text"
      },
      "source": [
        "## Visualising the Input data"
      ]
    },
    {
      "cell_type": "markdown",
      "metadata": {
        "id": "qHN1isHX7NJm",
        "colab_type": "text"
      },
      "source": [
        "Each stimulus is a 128 x 128 grayscale array:"
      ]
    },
    {
      "cell_type": "code",
      "metadata": {
        "id": "lkOXycV-77A7",
        "colab_type": "code",
        "colab": {}
      },
      "source": [
        "dat[\"stimuli\"][labels.T[:,0]=='entity'].shape"
      ],
      "execution_count": null,
      "outputs": []
    },
    {
      "cell_type": "code",
      "metadata": {
        "id": "HIfRaYAz7NJm",
        "colab_type": "code",
        "colab": {}
      },
      "source": [
        "f, axs = plt.subplots(7, 7, figsize=(12, 6), sharex=True, sharey=True)\n",
        "for ax, im, lbl in zip(axs.flat, dat[\"stimuli\"][labels.T[:,0]=='artifact'], labels[-1,:][labels.T[:,0]=='artifact']):\n",
        "  ax.imshow(im, cmap=\"gray\")\n",
        "  ax.set_title(lbl)\n",
        "f.tight_layout()"
      ],
      "execution_count": null,
      "outputs": []
    },
    {
      "cell_type": "markdown",
      "metadata": {
        "id": "dwBLcRl97NJo",
        "colab_type": "text"
      },
      "source": [
        "Each stimulus is associated with a pattern of BOLD response across voxels in visual cortex:"
      ]
    },
    {
      "cell_type": "code",
      "metadata": {
        "id": "s84_endi7NJp",
        "colab_type": "code",
        "colab": {}
      },
      "source": [
        "f, ax = plt.subplots(figsize=(12, 5))\n",
        "ax.set(xlabel=\"Voxel\", ylabel=\"Stimulus\")\n",
        "heatmap = ax.imshow(dat[\"responses\"], aspect=\"auto\", vmin=-1, vmax=1, cmap=\"bwr\")\n",
        "f.colorbar(heatmap, shrink=.5, label=\"Response amplitude (Z)\")\n",
        "f.tight_layout()"
      ],
      "execution_count": null,
      "outputs": []
    },
    {
      "cell_type": "markdown",
      "metadata": {
        "id": "7nnNAV9t7NJr",
        "colab_type": "text"
      },
      "source": [
        "The training/validation splits from the original paper are retained, so the 120 test stimuli and responses are in separate data structures:"
      ]
    },
    {
      "cell_type": "code",
      "metadata": {
        "id": "BkIzw54pdx5b",
        "colab_type": "code",
        "colab": {}
      },
      "source": [
        "f, axs = plt.subplots(3, 3, figsize=(12, 6), sharex=True, sharey=True)\n",
        "for ax, im, lbl in zip(axs.flat, dat[\"stimuli_test\"], labels[-1,:]):\n",
        "  ax.imshow(im, cmap=\"gray\")\n",
        "  ax.set_title(lbl)\n",
        "f.tight_layout()"
      ],
      "execution_count": null,
      "outputs": []
    },
    {
      "cell_type": "code",
      "metadata": {
        "id": "_2-2rE-87NJr",
        "colab_type": "code",
        "colab": {}
      },
      "source": [
        "f, ax = plt.subplots(figsize=(12, 2.5))\n",
        "ax.set(xlabel=\"Voxel\", ylabel=\"Test Stimulus\")\n",
        "heatmap = ax.imshow(dat[\"responses_test\"], aspect=\"auto\", vmin=-1, vmax=1, cmap=\"bwr\")\n",
        "f.colorbar(heatmap, shrink=.75, label=\"Response amplitude (Z)\")\n",
        "f.tight_layout()"
      ],
      "execution_count": null,
      "outputs": []
    }
  ]
}